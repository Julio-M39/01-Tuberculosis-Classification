{
 "cells": [
  {
   "cell_type": "markdown",
   "id": "491cee38",
   "metadata": {},
   "source": [
    "### Pacotes"
   ]
  },
  {
   "cell_type": "code",
   "execution_count": 1,
   "id": "02be6c9f",
   "metadata": {},
   "outputs": [
    {
     "name": "stdout",
     "output_type": "stream",
     "text": [
      "Versão da Linguagem Python Usada Neste Jupyter Notebook: 3.7.6\n"
     ]
    }
   ],
   "source": [
    "# Versão da Linguagem Python\n",
    "from platform import python_version\n",
    "print('Versão da Linguagem Python Usada Neste Jupyter Notebook:', python_version())"
   ]
  },
  {
   "cell_type": "code",
   "execution_count": 4,
   "id": "527372fb",
   "metadata": {},
   "outputs": [],
   "source": [
    "# Imports \n",
    "\n",
    "# Imports para manipulação e visualização de dados\n",
    "import numpy as np\n",
    "import pandas as pd\n",
    "import matplotlib\n",
    "import matplotlib.pyplot as plt\n",
    "\n",
    "# Imports para manipulação de imagens\n",
    "import os\n",
    "import cv2\n",
    "import itertools\n",
    "import shutil\n",
    "import imageio\n",
    "import skimage\n",
    "import skimage.io\n",
    "import skimage.transform\n",
    "from pathlib import Path\n",
    "\n",
    "# Imports para Deep Learning\n",
    "import tensorflow\n",
    "import keras\n",
    "from tensorflow.keras.models import Sequential\n",
    "from tensorflow.keras.layers import Dense, Dropout, Flatten\n",
    "from tensorflow.keras.layers import Conv2D, MaxPooling2D\n",
    "from tensorflow.keras.optimizers import Adam \n",
    "from tensorflow.keras.callbacks import EarlyStopping, ModelCheckpoint, Callback, ReduceLROnPlateau\n",
    "from tensorflow.keras.preprocessing.image import ImageDataGenerator\n",
    "from tensorflow.keras.metrics import categorical_crossentropy\n",
    "from tensorflow.keras.metrics import binary_accuracy\n",
    "\n",
    "# Imports para cálculo de métricas e outras tarefas\n",
    "import sklearn\n",
    "from sklearn.utils import shuffle\n",
    "from sklearn.metrics import confusion_matrix\n",
    "from sklearn.model_selection import train_test_split\n",
    "\n",
    "# As novas versões do Pandas e Matplotlib trazem diversas mensagens de aviso ao desenvolvedor. Vamos desativar isso.\n",
    "import sys\n",
    "import warnings\n",
    "import matplotlib.cbook\n",
    "if not sys.warnoptions:\n",
    "    warnings.simplefilter(\"ignore\")\n",
    "warnings.simplefilter(action='ignore', category=FutureWarning)\n",
    "warnings.filterwarnings(\"ignore\", category=FutureWarning)\n",
    "warnings.filterwarnings(\"ignore\", category=matplotlib.cbook.mplDeprecation)\n",
    "\n",
    "%matplotlib inline"
   ]
  },
  {
   "cell_type": "code",
   "execution_count": 5,
   "id": "8959f477",
   "metadata": {},
   "outputs": [
    {
     "name": "stdout",
     "output_type": "stream",
     "text": [
      "Author: Júlio Monteiro\n",
      "\n",
      "skimage   : 0.19.1\n",
      "tensorflow: 2.3.1\n",
      "imageio   : 2.13.5\n",
      "keras     : 2.3.1\n",
      "matplotlib: 3.3.4\n",
      "numpy     : 1.18.5\n",
      "sklearn   : 1.0.2\n",
      "pandas    : 1.0.3\n",
      "sys       : 3.7.6 (default, Jan  8 2020, 19:59:22) \n",
      "[GCC 7.3.0]\n",
      "cv2       : 4.5.5\n",
      "\n"
     ]
    }
   ],
   "source": [
    "# Versões dos pacotes usados neste jupyter notebook\n",
    "%reload_ext watermark\n",
    "%watermark -a \"Júlio Monteiro\" --iversions"
   ]
  },
  {
   "cell_type": "markdown",
   "id": "36766f86",
   "metadata": {},
   "source": [
    "###  Construção do Modelo"
   ]
  },
  {
   "cell_type": "markdown",
   "id": "94d9189b",
   "metadata": {},
   "source": [
    "### Diretórios"
   ]
  },
  {
   "cell_type": "code",
   "execution_count": 6,
   "id": "88aaeb51",
   "metadata": {},
   "outputs": [],
   "source": [
    "dados_treino = 'dataset/dados_treino/'\n",
    "dados_val = 'dataset/dados_val/'\n",
    "dados_test = 'dataset/dados_test/'"
   ]
  },
  {
   "cell_type": "markdown",
   "id": "11bfa5b9",
   "metadata": {},
   "source": [
    "Variáveis para definir as amostras nos batches de dados."
   ]
  },
  {
   "cell_type": "code",
   "execution_count": 7,
   "id": "c744804d",
   "metadata": {},
   "outputs": [],
   "source": [
    "# Número de exemplos de treinamento\n",
    "num_amostras_treino = 2034\n",
    "\n",
    "# Número de exemplos de validação\n",
    "num_amostras_val = 120\n",
    "\n",
    "# Tamanho do batch de treino\n",
    "batch_size_treino = 8\n",
    "\n",
    "# Tamanho do batch de validação\n",
    "batch_size_val = 8"
   ]
  },
  {
   "cell_type": "markdown",
   "id": "5a0ac836",
   "metadata": {},
   "source": [
    "Passos de treino e validação."
   ]
  },
  {
   "cell_type": "code",
   "execution_count": 8,
   "id": "28ecef5c",
   "metadata": {},
   "outputs": [],
   "source": [
    "# Aqui definimos o número de passos\n",
    "passos_treino = np.ceil(num_amostras_treino / batch_size_treino)\n",
    "passos_val = np.ceil(num_amostras_val / batch_size_val)"
   ]
  },
  {
   "cell_type": "code",
   "execution_count": 9,
   "id": "96868b14",
   "metadata": {},
   "outputs": [
    {
     "name": "stdout",
     "output_type": "stream",
     "text": [
      "255.0\n",
      "15.0\n"
     ]
    }
   ],
   "source": [
    "# Quantidade\n",
    "print(passos_treino)\n",
    "print(passos_val)"
   ]
  },
  {
   "cell_type": "markdown",
   "id": "4156b347",
   "metadata": {},
   "source": [
    "Geramos os batches de dados para treino, validação e teste."
   ]
  },
  {
   "cell_type": "code",
   "execution_count": 10,
   "id": "91a05c14",
   "metadata": {},
   "outputs": [
    {
     "name": "stdout",
     "output_type": "stream",
     "text": [
      "Found 2034 images belonging to 2 classes.\n",
      "Found 120 images belonging to 2 classes.\n",
      "Found 102 images belonging to 2 classes.\n"
     ]
    }
   ],
   "source": [
    "# Aqui geramos os batches de dados\n",
    "datagen = ImageDataGenerator(rescale = 1.0/255)\n",
    "\n",
    "# Gera os batches de treino\n",
    "gen_treino = datagen.flow_from_directory(dados_treino,\n",
    "                                         target_size = (256,256),\n",
    "                                         batch_size = batch_size_treino,\n",
    "                                         class_mode = 'categorical')\n",
    "\n",
    "# Gera os batches de validação\n",
    "gen_val = datagen.flow_from_directory(dados_val,\n",
    "                                      target_size = (256,256),\n",
    "                                      batch_size = batch_size_val,\n",
    "                                      class_mode = 'categorical')\n",
    "\n",
    "# Gera os batches de teste\n",
    "# Nota: shuffle = False faz com que o conjunto de dados de teste não seja \"embaralhado\"\n",
    "gen_teste = datagen.flow_from_directory(dados_test,\n",
    "                                        target_size = (256,256),\n",
    "                                        batch_size = 1,\n",
    "                                        class_mode = 'categorical',\n",
    "                                        shuffle = False)"
   ]
  },
  {
   "cell_type": "markdown",
   "id": "3958377d",
   "metadata": {},
   "source": [
    "### Hiperparâmetros"
   ]
  },
  {
   "cell_type": "markdown",
   "id": "966dab82",
   "metadata": {},
   "source": [
    "Definimos os hiperparâmetros que serão usados para treinar o modelo. Esses valores podem ser modificados para ajustar o modelo e tentar obter melhor precisão."
   ]
  },
  {
   "cell_type": "code",
   "execution_count": 55,
   "id": "3dafdbeb",
   "metadata": {},
   "outputs": [],
   "source": [
    "# Tamanho do kernel\n",
    "kernel_size = (3,3)\n",
    "\n",
    "# Tamanho do Pool\n",
    "pool_size = (2,2)\n",
    "\n",
    "# Número de neurônios da primeira camada\n",
    "num_neurons_1 = 32\n",
    "\n",
    "# Número de neurônios da segunda camada\n",
    "num_neurons_2 = 32\n",
    "\n",
    "# Número de neurônios da terceira camada\n",
    "#num_neurons_3 = 64\n",
    "\n",
    "# Taxa de dropout nas camadas de convolução\n",
    "dropout_conv = 0.4\n",
    "\n",
    "# Taxa de dropout na camada densa\n",
    "dropout_dense = 0.4\n",
    "\n",
    "# Taxa de aprendizado\n",
    "taxa_aprendizado = 0.00001\n",
    "\n",
    "# Número de épocas de treinamento\n",
    "num_epochs = 100"
   ]
  },
  {
   "cell_type": "markdown",
   "id": "81d39e99",
   "metadata": {},
   "source": [
    "### Arquitetura "
   ]
  },
  {
   "cell_type": "markdown",
   "id": "c2d1db6c",
   "metadata": {},
   "source": [
    "Aqui está a arquitetura do modelo. Definimos o número de camadas e a função de ativação usada.\n",
    "\n",
    "Cada problema requer uma arquitetura diferente."
   ]
  },
  {
   "cell_type": "code",
   "execution_count": 56,
   "id": "bd959a31",
   "metadata": {},
   "outputs": [
    {
     "name": "stdout",
     "output_type": "stream",
     "text": [
      "Model: \"sequential_7\"\n",
      "_________________________________________________________________\n",
      "Layer (type)                 Output Shape              Param #   \n",
      "=================================================================\n",
      "conv2d_54 (Conv2D)           (None, 254, 254, 32)      896       \n",
      "_________________________________________________________________\n",
      "conv2d_55 (Conv2D)           (None, 252, 252, 32)      9248      \n",
      "_________________________________________________________________\n",
      "conv2d_56 (Conv2D)           (None, 250, 250, 32)      9248      \n",
      "_________________________________________________________________\n",
      "max_pooling2d_18 (MaxPooling (None, 125, 125, 32)      0         \n",
      "_________________________________________________________________\n",
      "dropout_25 (Dropout)         (None, 125, 125, 32)      0         \n",
      "_________________________________________________________________\n",
      "conv2d_57 (Conv2D)           (None, 123, 123, 32)      9248      \n",
      "_________________________________________________________________\n",
      "conv2d_58 (Conv2D)           (None, 121, 121, 32)      9248      \n",
      "_________________________________________________________________\n",
      "conv2d_59 (Conv2D)           (None, 119, 119, 32)      9248      \n",
      "_________________________________________________________________\n",
      "max_pooling2d_19 (MaxPooling (None, 59, 59, 32)        0         \n",
      "_________________________________________________________________\n",
      "dropout_26 (Dropout)         (None, 59, 59, 32)        0         \n",
      "_________________________________________________________________\n",
      "flatten_7 (Flatten)          (None, 111392)            0         \n",
      "_________________________________________________________________\n",
      "dense_14 (Dense)             (None, 64)                7129152   \n",
      "_________________________________________________________________\n",
      "dropout_27 (Dropout)         (None, 64)                0         \n",
      "_________________________________________________________________\n",
      "dense_15 (Dense)             (None, 2)                 130       \n",
      "=================================================================\n",
      "Total params: 7,176,418\n",
      "Trainable params: 7,176,418\n",
      "Non-trainable params: 0\n",
      "_________________________________________________________________\n"
     ]
    }
   ],
   "source": [
    "# Arquitetura do Modelo\n",
    "\n",
    "# Cria a sequência de camadas\n",
    "model = Sequential()\n",
    "\n",
    "# Adicionamos a primeira camada convolucional com 3 operações de convolução\n",
    "# Por que input_shape tem apenas 3 dimensões? Porque iremos alimentar uma imagem por vez durante o treinamento.\n",
    "model.add(Conv2D(num_neurons_1, kernel_size, activation = 'relu', input_shape = (256, 256, 3)))\n",
    "model.add(Conv2D(num_neurons_1, kernel_size, activation = 'relu'))\n",
    "model.add(Conv2D(num_neurons_1, kernel_size, activation = 'relu'))\n",
    "model.add(MaxPooling2D(pool_size = pool_size)) \n",
    "model.add(Dropout(dropout_conv))\n",
    "\n",
    "# Adicionamos a segunda camada convolucional com 3 operações de convolução\n",
    "model.add(Conv2D(num_neurons_2, kernel_size, activation = 'relu'))\n",
    "model.add(Conv2D(num_neurons_2, kernel_size, activation = 'relu'))\n",
    "model.add(Conv2D(num_neurons_2, kernel_size, activation = 'relu'))\n",
    "model.add(MaxPooling2D(pool_size = pool_size))\n",
    "model.add(Dropout(dropout_conv))\n",
    "\n",
    "# Adicionamos a terceira camada convolucional com 3 operações de convolução\n",
    "#model.add(Conv2D(num_neurons_3, kernel_size, activation = 'relu'))\n",
    "#model.add(Conv2D(num_neurons_3, kernel_size, activation = 'relu'))\n",
    "#model.add(Conv2D(num_neurons_3, kernel_size, activation = 'relu'))\n",
    "#model.add(MaxPooling2D(pool_size = pool_size))\n",
    "#model.add(Dropout(dropout_conv))\n",
    "\n",
    "# Camada de \"achatamento\"\n",
    "model.add(Flatten())\n",
    "\n",
    "# Camada densa com dropout\n",
    "model.add(Dense(64, activation = \"relu\"))\n",
    "model.add(Dropout(dropout_dense))\n",
    "\n",
    "# Camada de saída\n",
    "model.add(Dense(2, activation = \"softmax\"))\n",
    "\n",
    "# Sumário do modelo\n",
    "model.summary()"
   ]
  },
  {
   "cell_type": "markdown",
   "id": "3e25c99f",
   "metadata": {},
   "source": [
    "### Compilação"
   ]
  },
  {
   "cell_type": "code",
   "execution_count": 57,
   "id": "986a1d18",
   "metadata": {},
   "outputs": [],
   "source": [
    "# Compilação do modelo\n",
    "model.compile(Adam(taxa_aprendizado), \n",
    "              loss = 'binary_crossentropy', \n",
    "              metrics = ['accuracy'], \n",
    "              sample_weight_mode = None)"
   ]
  },
  {
   "cell_type": "markdown",
   "id": "09c49afd",
   "metadata": {},
   "source": [
    "### Checkpoint"
   ]
  },
  {
   "cell_type": "code",
   "execution_count": 58,
   "id": "e9467e68",
   "metadata": {},
   "outputs": [],
   "source": [
    "# Definimos um checkpoint para verificar regularmente se a perda em validação diminuiu\n",
    "# Se a performance melhorar em validação salvamos o modelo\n",
    "# Podemos ainda optar por salvar o modelo a cada número de épocas\n",
    "checkpoint = ModelCheckpoint('modelos/modelo_raiox.h5', \n",
    "                             monitor = 'val_loss', \n",
    "                             verbose = 1, \n",
    "                             save_best_only = True, \n",
    "                             mode = 'min')"
   ]
  },
  {
   "cell_type": "markdown",
   "id": "e81f0400",
   "metadata": {},
   "source": [
    "Uma boa estratégia é reduzir a taxa de aprendizado de forma gradativa, sempre que o modelo parar de aprender."
   ]
  },
  {
   "cell_type": "code",
   "execution_count": 59,
   "id": "76b96c9a",
   "metadata": {},
   "outputs": [],
   "source": [
    "# Redução gradual da taxa de aprendizado (Reduce on Plateau)\n",
    "reduce_lr = ReduceLROnPlateau(monitor = 'val_loss', \n",
    "                              factor = 0.5, \n",
    "                              patience = 5, \n",
    "                              verbose = 1, \n",
    "                              mode = 'min', \n",
    "                              min_lr = 0.000001)"
   ]
  },
  {
   "cell_type": "code",
   "execution_count": 60,
   "id": "e40846ec",
   "metadata": {},
   "outputs": [],
   "source": [
    "# Cria os callbacks que serão usados no treinamento\n",
    "callbacks_list = [checkpoint, reduce_lr]"
   ]
  },
  {
   "cell_type": "markdown",
   "id": "cf2cea53",
   "metadata": {},
   "source": [
    "### Treinamento do Modelo"
   ]
  },
  {
   "cell_type": "code",
   "execution_count": 61,
   "id": "4b73b009",
   "metadata": {},
   "outputs": [
    {
     "name": "stdout",
     "output_type": "stream",
     "text": [
      "Epoch 1/100\n",
      "254/255 [============================>.] - ETA: 0s - loss: 0.6917 - accuracy: 0.5262\n",
      "Epoch 00001: val_loss improved from inf to 0.69115, saving model to modelos/modelo_raiox.h5\n",
      "255/255 [==============================] - 9s 36ms/step - loss: 0.6919 - accuracy: 0.5246 - val_loss: 0.6912 - val_accuracy: 0.5083\n",
      "Epoch 2/100\n",
      "254/255 [============================>.] - ETA: 0s - loss: 0.6708 - accuracy: 0.6051\n",
      "Epoch 00002: val_loss improved from 0.69115 to 0.67645, saving model to modelos/modelo_raiox.h5\n",
      "255/255 [==============================] - 9s 35ms/step - loss: 0.6706 - accuracy: 0.6062 - val_loss: 0.6764 - val_accuracy: 0.6833\n",
      "Epoch 3/100\n",
      "254/255 [============================>.] - ETA: 0s - loss: 0.6441 - accuracy: 0.6283\n",
      "Epoch 00003: val_loss improved from 0.67645 to 0.66272, saving model to modelos/modelo_raiox.h5\n",
      "255/255 [==============================] - 9s 35ms/step - loss: 0.6443 - accuracy: 0.6278 - val_loss: 0.6627 - val_accuracy: 0.6250\n",
      "Epoch 4/100\n",
      "255/255 [==============================] - ETA: 0s - loss: 0.6338 - accuracy: 0.6524\n",
      "Epoch 00004: val_loss improved from 0.66272 to 0.65970, saving model to modelos/modelo_raiox.h5\n",
      "255/255 [==============================] - 9s 35ms/step - loss: 0.6338 - accuracy: 0.6524 - val_loss: 0.6597 - val_accuracy: 0.6500\n",
      "Epoch 5/100\n",
      "254/255 [============================>.] - ETA: 0s - loss: 0.6188 - accuracy: 0.6673\n",
      "Epoch 00005: val_loss improved from 0.65970 to 0.64497, saving model to modelos/modelo_raiox.h5\n",
      "255/255 [==============================] - 9s 36ms/step - loss: 0.6200 - accuracy: 0.6667 - val_loss: 0.6450 - val_accuracy: 0.6750\n",
      "Epoch 6/100\n",
      "255/255 [==============================] - ETA: 0s - loss: 0.6080 - accuracy: 0.6731\n",
      "Epoch 00006: val_loss improved from 0.64497 to 0.63728, saving model to modelos/modelo_raiox.h5\n",
      "255/255 [==============================] - 9s 36ms/step - loss: 0.6080 - accuracy: 0.6731 - val_loss: 0.6373 - val_accuracy: 0.6750\n",
      "Epoch 7/100\n",
      "254/255 [============================>.] - ETA: 0s - loss: 0.5977 - accuracy: 0.6797\n",
      "Epoch 00007: val_loss did not improve from 0.63728\n",
      "255/255 [==============================] - 9s 35ms/step - loss: 0.5977 - accuracy: 0.6794 - val_loss: 0.6498 - val_accuracy: 0.6000\n",
      "Epoch 8/100\n",
      "254/255 [============================>.] - ETA: 0s - loss: 0.5892 - accuracy: 0.6930\n",
      "Epoch 00008: val_loss improved from 0.63728 to 0.62402, saving model to modelos/modelo_raiox.h5\n",
      "255/255 [==============================] - 9s 35ms/step - loss: 0.5891 - accuracy: 0.6932 - val_loss: 0.6240 - val_accuracy: 0.6917\n",
      "Epoch 9/100\n",
      "254/255 [============================>.] - ETA: 0s - loss: 0.5768 - accuracy: 0.7073\n",
      "Epoch 00009: val_loss improved from 0.62402 to 0.62063, saving model to modelos/modelo_raiox.h5\n",
      "255/255 [==============================] - 9s 35ms/step - loss: 0.5759 - accuracy: 0.7085 - val_loss: 0.6206 - val_accuracy: 0.6583\n",
      "Epoch 10/100\n",
      "255/255 [==============================] - ETA: 0s - loss: 0.5735 - accuracy: 0.7104\n",
      "Epoch 00010: val_loss improved from 0.62063 to 0.60907, saving model to modelos/modelo_raiox.h5\n",
      "255/255 [==============================] - 9s 35ms/step - loss: 0.5735 - accuracy: 0.7104 - val_loss: 0.6091 - val_accuracy: 0.7000\n",
      "Epoch 11/100\n",
      "254/255 [============================>.] - ETA: 0s - loss: 0.5560 - accuracy: 0.7275\n",
      "Epoch 00011: val_loss improved from 0.60907 to 0.58161, saving model to modelos/modelo_raiox.h5\n",
      "255/255 [==============================] - 9s 35ms/step - loss: 0.5558 - accuracy: 0.7276 - val_loss: 0.5816 - val_accuracy: 0.7250\n",
      "Epoch 12/100\n",
      "255/255 [==============================] - ETA: 0s - loss: 0.5521 - accuracy: 0.7262\n",
      "Epoch 00012: val_loss did not improve from 0.58161\n",
      "255/255 [==============================] - 9s 34ms/step - loss: 0.5521 - accuracy: 0.7262 - val_loss: 0.5841 - val_accuracy: 0.7333\n",
      "Epoch 13/100\n",
      "254/255 [============================>.] - ETA: 0s - loss: 0.5448 - accuracy: 0.7280\n",
      "Epoch 00013: val_loss improved from 0.58161 to 0.56311, saving model to modelos/modelo_raiox.h5\n",
      "255/255 [==============================] - 9s 36ms/step - loss: 0.5445 - accuracy: 0.7281 - val_loss: 0.5631 - val_accuracy: 0.7500\n",
      "Epoch 14/100\n",
      "254/255 [============================>.] - ETA: 0s - loss: 0.5377 - accuracy: 0.7379\n",
      "Epoch 00014: val_loss did not improve from 0.56311\n",
      "255/255 [==============================] - 9s 35ms/step - loss: 0.5376 - accuracy: 0.7380 - val_loss: 0.5645 - val_accuracy: 0.7667\n",
      "Epoch 15/100\n",
      "255/255 [==============================] - ETA: 0s - loss: 0.5247 - accuracy: 0.7557\n",
      "Epoch 00015: val_loss improved from 0.56311 to 0.54296, saving model to modelos/modelo_raiox.h5\n",
      "255/255 [==============================] - 9s 35ms/step - loss: 0.5247 - accuracy: 0.7557 - val_loss: 0.5430 - val_accuracy: 0.7750\n",
      "Epoch 16/100\n",
      "254/255 [============================>.] - ETA: 0s - loss: 0.5135 - accuracy: 0.7562\n",
      "Epoch 00016: val_loss did not improve from 0.54296\n",
      "255/255 [==============================] - 9s 34ms/step - loss: 0.5127 - accuracy: 0.7571 - val_loss: 0.5460 - val_accuracy: 0.7917\n",
      "Epoch 17/100\n",
      "255/255 [==============================] - ETA: 0s - loss: 0.5151 - accuracy: 0.7635\n",
      "Epoch 00017: val_loss improved from 0.54296 to 0.52686, saving model to modelos/modelo_raiox.h5\n",
      "255/255 [==============================] - 9s 35ms/step - loss: 0.5151 - accuracy: 0.7635 - val_loss: 0.5269 - val_accuracy: 0.7750\n",
      "Epoch 18/100\n",
      "255/255 [==============================] - ETA: 0s - loss: 0.5088 - accuracy: 0.7640\n",
      "Epoch 00018: val_loss did not improve from 0.52686\n",
      "255/255 [==============================] - 9s 36ms/step - loss: 0.5088 - accuracy: 0.7640 - val_loss: 0.5300 - val_accuracy: 0.8083\n",
      "Epoch 19/100\n",
      "254/255 [============================>.] - ETA: 0s - loss: 0.5008 - accuracy: 0.7734\n",
      "Epoch 00019: val_loss improved from 0.52686 to 0.50843, saving model to modelos/modelo_raiox.h5\n",
      "255/255 [==============================] - 9s 35ms/step - loss: 0.5009 - accuracy: 0.7734 - val_loss: 0.5084 - val_accuracy: 0.7750\n",
      "Epoch 20/100\n",
      "254/255 [============================>.] - ETA: 0s - loss: 0.4928 - accuracy: 0.7725\n",
      "Epoch 00020: val_loss improved from 0.50843 to 0.49618, saving model to modelos/modelo_raiox.h5\n",
      "255/255 [==============================] - 9s 35ms/step - loss: 0.4923 - accuracy: 0.7724 - val_loss: 0.4962 - val_accuracy: 0.7833\n",
      "Epoch 21/100\n",
      "254/255 [============================>.] - ETA: 0s - loss: 0.4807 - accuracy: 0.7868\n",
      "Epoch 00021: val_loss did not improve from 0.49618\n",
      "255/255 [==============================] - 9s 34ms/step - loss: 0.4808 - accuracy: 0.7871 - val_loss: 0.4980 - val_accuracy: 0.7833\n",
      "Epoch 22/100\n",
      "254/255 [============================>.] - ETA: 0s - loss: 0.4759 - accuracy: 0.7843\n",
      "Epoch 00022: val_loss improved from 0.49618 to 0.48864, saving model to modelos/modelo_raiox.h5\n",
      "255/255 [==============================] - 9s 35ms/step - loss: 0.4749 - accuracy: 0.7852 - val_loss: 0.4886 - val_accuracy: 0.8000\n",
      "Epoch 23/100\n",
      "255/255 [==============================] - ETA: 0s - loss: 0.4788 - accuracy: 0.7901\n",
      "Epoch 00023: val_loss did not improve from 0.48864\n",
      "255/255 [==============================] - 9s 35ms/step - loss: 0.4788 - accuracy: 0.7901 - val_loss: 0.4927 - val_accuracy: 0.7833\n",
      "Epoch 24/100\n",
      "254/255 [============================>.] - ETA: 0s - loss: 0.4623 - accuracy: 0.7907\n",
      "Epoch 00024: val_loss improved from 0.48864 to 0.48575, saving model to modelos/modelo_raiox.h5\n",
      "255/255 [==============================] - 9s 36ms/step - loss: 0.4620 - accuracy: 0.7911 - val_loss: 0.4857 - val_accuracy: 0.7833\n",
      "Epoch 25/100\n",
      "254/255 [============================>.] - ETA: 0s - loss: 0.4526 - accuracy: 0.7986\n",
      "Epoch 00025: val_loss did not improve from 0.48575\n",
      "255/255 [==============================] - 9s 35ms/step - loss: 0.4526 - accuracy: 0.7989 - val_loss: 0.5074 - val_accuracy: 0.7500\n",
      "Epoch 26/100\n",
      "254/255 [============================>.] - ETA: 0s - loss: 0.4595 - accuracy: 0.7996\n",
      "Epoch 00026: val_loss improved from 0.48575 to 0.47340, saving model to modelos/modelo_raiox.h5\n",
      "255/255 [==============================] - 9s 35ms/step - loss: 0.4592 - accuracy: 0.7994 - val_loss: 0.4734 - val_accuracy: 0.7750\n",
      "Epoch 27/100\n",
      "254/255 [============================>.] - ETA: 0s - loss: 0.4456 - accuracy: 0.8055\n",
      "Epoch 00027: val_loss improved from 0.47340 to 0.47077, saving model to modelos/modelo_raiox.h5\n",
      "255/255 [==============================] - 9s 35ms/step - loss: 0.4445 - accuracy: 0.8063 - val_loss: 0.4708 - val_accuracy: 0.8000\n",
      "Epoch 28/100\n",
      "254/255 [============================>.] - ETA: 0s - loss: 0.4465 - accuracy: 0.8045\n",
      "Epoch 00028: val_loss did not improve from 0.47077\n",
      "255/255 [==============================] - 9s 35ms/step - loss: 0.4459 - accuracy: 0.8048 - val_loss: 0.4841 - val_accuracy: 0.7667\n",
      "Epoch 29/100\n",
      "255/255 [==============================] - ETA: 0s - loss: 0.4343 - accuracy: 0.8097\n",
      "Epoch 00029: val_loss improved from 0.47077 to 0.46990, saving model to modelos/modelo_raiox.h5\n",
      "255/255 [==============================] - 9s 35ms/step - loss: 0.4343 - accuracy: 0.8097 - val_loss: 0.4699 - val_accuracy: 0.7750\n",
      "Epoch 30/100\n",
      "255/255 [==============================] - ETA: 0s - loss: 0.4257 - accuracy: 0.8088\n",
      "Epoch 00030: val_loss improved from 0.46990 to 0.45847, saving model to modelos/modelo_raiox.h5\n",
      "255/255 [==============================] - 9s 35ms/step - loss: 0.4257 - accuracy: 0.8088 - val_loss: 0.4585 - val_accuracy: 0.7833\n",
      "Epoch 31/100\n",
      "254/255 [============================>.] - ETA: 0s - loss: 0.4275 - accuracy: 0.8050\n",
      "Epoch 00031: val_loss did not improve from 0.45847\n",
      "255/255 [==============================] - 9s 34ms/step - loss: 0.4269 - accuracy: 0.8053 - val_loss: 0.4652 - val_accuracy: 0.7750\n",
      "Epoch 32/100\n",
      "254/255 [============================>.] - ETA: 0s - loss: 0.4192 - accuracy: 0.8105\n",
      "Epoch 00032: val_loss did not improve from 0.45847\n",
      "255/255 [==============================] - 9s 35ms/step - loss: 0.4184 - accuracy: 0.8107 - val_loss: 0.4701 - val_accuracy: 0.7583\n",
      "Epoch 33/100\n",
      "254/255 [============================>.] - ETA: 0s - loss: 0.4267 - accuracy: 0.8189\n",
      "Epoch 00033: val_loss did not improve from 0.45847\n",
      "255/255 [==============================] - 9s 35ms/step - loss: 0.4271 - accuracy: 0.8186 - val_loss: 0.4765 - val_accuracy: 0.7833\n",
      "Epoch 34/100\n",
      "255/255 [==============================] - ETA: 0s - loss: 0.4106 - accuracy: 0.8201\n",
      "Epoch 00034: val_loss did not improve from 0.45847\n",
      "255/255 [==============================] - 9s 35ms/step - loss: 0.4106 - accuracy: 0.8201 - val_loss: 0.4692 - val_accuracy: 0.7833\n",
      "Epoch 35/100\n",
      "255/255 [==============================] - ETA: 0s - loss: 0.4102 - accuracy: 0.8240\n",
      "Epoch 00035: val_loss did not improve from 0.45847\n",
      "\n",
      "Epoch 00035: ReduceLROnPlateau reducing learning rate to 4.999999873689376e-06.\n",
      "255/255 [==============================] - 9s 35ms/step - loss: 0.4102 - accuracy: 0.8240 - val_loss: 0.4593 - val_accuracy: 0.8000\n",
      "Epoch 36/100\n",
      "255/255 [==============================] - ETA: 0s - loss: 0.3857 - accuracy: 0.8333\n",
      "Epoch 00036: val_loss improved from 0.45847 to 0.45679, saving model to modelos/modelo_raiox.h5\n",
      "255/255 [==============================] - 9s 35ms/step - loss: 0.3857 - accuracy: 0.8333 - val_loss: 0.4568 - val_accuracy: 0.7917\n",
      "Epoch 37/100\n",
      "255/255 [==============================] - ETA: 0s - loss: 0.3910 - accuracy: 0.8338\n",
      "Epoch 00037: val_loss improved from 0.45679 to 0.45443, saving model to modelos/modelo_raiox.h5\n",
      "255/255 [==============================] - 9s 35ms/step - loss: 0.3910 - accuracy: 0.8338 - val_loss: 0.4544 - val_accuracy: 0.7917\n",
      "Epoch 38/100\n",
      "255/255 [==============================] - ETA: 0s - loss: 0.3875 - accuracy: 0.8289\n",
      "Epoch 00038: val_loss improved from 0.45443 to 0.44960, saving model to modelos/modelo_raiox.h5\n",
      "255/255 [==============================] - 9s 35ms/step - loss: 0.3875 - accuracy: 0.8289 - val_loss: 0.4496 - val_accuracy: 0.8000\n",
      "Epoch 39/100\n",
      "255/255 [==============================] - ETA: 0s - loss: 0.3744 - accuracy: 0.8368\n",
      "Epoch 00039: val_loss did not improve from 0.44960\n",
      "255/255 [==============================] - 9s 35ms/step - loss: 0.3744 - accuracy: 0.8368 - val_loss: 0.4699 - val_accuracy: 0.7833\n",
      "Epoch 40/100\n",
      "254/255 [============================>.] - ETA: 0s - loss: 0.3796 - accuracy: 0.8361\n",
      "Epoch 00040: val_loss did not improve from 0.44960\n",
      "255/255 [==============================] - 9s 35ms/step - loss: 0.3795 - accuracy: 0.8363 - val_loss: 0.4675 - val_accuracy: 0.7833\n",
      "Epoch 41/100\n",
      "255/255 [==============================] - ETA: 0s - loss: 0.3747 - accuracy: 0.8387\n",
      "Epoch 00041: val_loss did not improve from 0.44960\n",
      "255/255 [==============================] - 9s 35ms/step - loss: 0.3747 - accuracy: 0.8387 - val_loss: 0.4546 - val_accuracy: 0.8000\n",
      "Epoch 42/100\n",
      "254/255 [============================>.] - ETA: 0s - loss: 0.3719 - accuracy: 0.8322\n",
      "Epoch 00042: val_loss did not improve from 0.44960\n",
      "255/255 [==============================] - 9s 35ms/step - loss: 0.3732 - accuracy: 0.8314 - val_loss: 0.4552 - val_accuracy: 0.8083\n",
      "Epoch 43/100\n",
      "254/255 [============================>.] - ETA: 0s - loss: 0.3672 - accuracy: 0.8346\n",
      "Epoch 00043: val_loss did not improve from 0.44960\n",
      "\n",
      "Epoch 00043: ReduceLROnPlateau reducing learning rate to 2.499999936844688e-06.\n",
      "255/255 [==============================] - 9s 35ms/step - loss: 0.3661 - accuracy: 0.8353 - val_loss: 0.4515 - val_accuracy: 0.8000\n",
      "Epoch 44/100\n",
      "254/255 [============================>.] - ETA: 0s - loss: 0.3673 - accuracy: 0.8430\n",
      "Epoch 00044: val_loss improved from 0.44960 to 0.44737, saving model to modelos/modelo_raiox.h5\n",
      "255/255 [==============================] - 9s 35ms/step - loss: 0.3670 - accuracy: 0.8432 - val_loss: 0.4474 - val_accuracy: 0.8000\n",
      "Epoch 45/100\n",
      "254/255 [============================>.] - ETA: 0s - loss: 0.3549 - accuracy: 0.8450\n",
      "Epoch 00045: val_loss did not improve from 0.44737\n",
      "255/255 [==============================] - 9s 35ms/step - loss: 0.3548 - accuracy: 0.8456 - val_loss: 0.4500 - val_accuracy: 0.8083\n",
      "Epoch 46/100\n",
      "255/255 [==============================] - ETA: 0s - loss: 0.3584 - accuracy: 0.8451\n",
      "Epoch 00046: val_loss did not improve from 0.44737\n",
      "255/255 [==============================] - 9s 35ms/step - loss: 0.3584 - accuracy: 0.8451 - val_loss: 0.4522 - val_accuracy: 0.8083\n",
      "Epoch 47/100\n",
      "255/255 [==============================] - ETA: 0s - loss: 0.3559 - accuracy: 0.8496\n",
      "Epoch 00047: val_loss did not improve from 0.44737\n",
      "255/255 [==============================] - 9s 35ms/step - loss: 0.3559 - accuracy: 0.8496 - val_loss: 0.4498 - val_accuracy: 0.8083\n",
      "Epoch 48/100\n",
      "255/255 [==============================] - ETA: 0s - loss: 0.3468 - accuracy: 0.8564\n",
      "Epoch 00048: val_loss did not improve from 0.44737\n",
      "255/255 [==============================] - 9s 35ms/step - loss: 0.3468 - accuracy: 0.8564 - val_loss: 0.4554 - val_accuracy: 0.8083\n",
      "Epoch 49/100\n",
      "254/255 [============================>.] - ETA: 0s - loss: 0.3507 - accuracy: 0.8544\n",
      "Epoch 00049: val_loss did not improve from 0.44737\n",
      "\n",
      "Epoch 00049: ReduceLROnPlateau reducing learning rate to 1.249999968422344e-06.\n",
      "255/255 [==============================] - 9s 35ms/step - loss: 0.3501 - accuracy: 0.8550 - val_loss: 0.4492 - val_accuracy: 0.8083\n",
      "Epoch 50/100\n",
      "254/255 [============================>.] - ETA: 0s - loss: 0.3518 - accuracy: 0.8465\n",
      "Epoch 00050: val_loss did not improve from 0.44737\n",
      "255/255 [==============================] - 9s 35ms/step - loss: 0.3520 - accuracy: 0.8466 - val_loss: 0.4519 - val_accuracy: 0.8000\n",
      "Epoch 51/100\n",
      "255/255 [==============================] - ETA: 0s - loss: 0.3347 - accuracy: 0.8579\n",
      "Epoch 00051: val_loss did not improve from 0.44737\n",
      "255/255 [==============================] - 9s 34ms/step - loss: 0.3347 - accuracy: 0.8579 - val_loss: 0.4500 - val_accuracy: 0.8083\n",
      "Epoch 52/100\n",
      "254/255 [============================>.] - ETA: 0s - loss: 0.3449 - accuracy: 0.8539\n",
      "Epoch 00052: val_loss improved from 0.44737 to 0.44471, saving model to modelos/modelo_raiox.h5\n",
      "255/255 [==============================] - 9s 35ms/step - loss: 0.3448 - accuracy: 0.8540 - val_loss: 0.4447 - val_accuracy: 0.8083\n",
      "Epoch 53/100\n",
      "254/255 [============================>.] - ETA: 0s - loss: 0.3361 - accuracy: 0.8588\n",
      "Epoch 00053: val_loss did not improve from 0.44471\n",
      "255/255 [==============================] - 9s 35ms/step - loss: 0.3362 - accuracy: 0.8589 - val_loss: 0.4501 - val_accuracy: 0.8000\n",
      "Epoch 54/100\n"
     ]
    },
    {
     "name": "stdout",
     "output_type": "stream",
     "text": [
      "254/255 [============================>.] - ETA: 0s - loss: 0.3364 - accuracy: 0.8539\n",
      "Epoch 00054: val_loss did not improve from 0.44471\n",
      "255/255 [==============================] - 9s 35ms/step - loss: 0.3359 - accuracy: 0.8540 - val_loss: 0.4551 - val_accuracy: 0.8000\n",
      "Epoch 55/100\n",
      "254/255 [============================>.] - ETA: 0s - loss: 0.3295 - accuracy: 0.8623\n",
      "Epoch 00055: val_loss did not improve from 0.44471\n",
      "255/255 [==============================] - 8s 33ms/step - loss: 0.3300 - accuracy: 0.8614 - val_loss: 0.4466 - val_accuracy: 0.8083\n",
      "Epoch 56/100\n",
      "254/255 [============================>.] - ETA: 0s - loss: 0.3416 - accuracy: 0.8578\n",
      "Epoch 00056: val_loss did not improve from 0.44471\n",
      "255/255 [==============================] - 9s 35ms/step - loss: 0.3411 - accuracy: 0.8584 - val_loss: 0.4472 - val_accuracy: 0.8083\n",
      "Epoch 57/100\n",
      "255/255 [==============================] - ETA: 0s - loss: 0.3356 - accuracy: 0.8555\n",
      "Epoch 00057: val_loss did not improve from 0.44471\n",
      "\n",
      "Epoch 00057: ReduceLROnPlateau reducing learning rate to 1e-06.\n",
      "255/255 [==============================] - 9s 34ms/step - loss: 0.3356 - accuracy: 0.8555 - val_loss: 0.4461 - val_accuracy: 0.8083\n",
      "Epoch 58/100\n",
      "254/255 [============================>.] - ETA: 0s - loss: 0.3328 - accuracy: 0.8593\n",
      "Epoch 00058: val_loss did not improve from 0.44471\n",
      "255/255 [==============================] - 9s 35ms/step - loss: 0.3328 - accuracy: 0.8589 - val_loss: 0.4483 - val_accuracy: 0.8000\n",
      "Epoch 59/100\n",
      "254/255 [============================>.] - ETA: 0s - loss: 0.3376 - accuracy: 0.8549\n",
      "Epoch 00059: val_loss did not improve from 0.44471\n",
      "255/255 [==============================] - 9s 35ms/step - loss: 0.3384 - accuracy: 0.8550 - val_loss: 0.4469 - val_accuracy: 0.8083\n",
      "Epoch 60/100\n",
      "254/255 [============================>.] - ETA: 0s - loss: 0.3334 - accuracy: 0.8544\n",
      "Epoch 00060: val_loss did not improve from 0.44471\n",
      "255/255 [==============================] - 9s 34ms/step - loss: 0.3329 - accuracy: 0.8550 - val_loss: 0.4521 - val_accuracy: 0.8000\n",
      "Epoch 61/100\n",
      "255/255 [==============================] - ETA: 0s - loss: 0.3324 - accuracy: 0.8579\n",
      "Epoch 00061: val_loss did not improve from 0.44471\n",
      "255/255 [==============================] - 9s 35ms/step - loss: 0.3324 - accuracy: 0.8579 - val_loss: 0.4510 - val_accuracy: 0.8083\n",
      "Epoch 62/100\n",
      "254/255 [============================>.] - ETA: 0s - loss: 0.3306 - accuracy: 0.8598\n",
      "Epoch 00062: val_loss did not improve from 0.44471\n",
      "255/255 [==============================] - 9s 34ms/step - loss: 0.3305 - accuracy: 0.8599 - val_loss: 0.4551 - val_accuracy: 0.8000\n",
      "Epoch 63/100\n",
      "254/255 [============================>.] - ETA: 0s - loss: 0.3334 - accuracy: 0.8583\n",
      "Epoch 00063: val_loss improved from 0.44471 to 0.44423, saving model to modelos/modelo_raiox.h5\n",
      "255/255 [==============================] - 9s 36ms/step - loss: 0.3343 - accuracy: 0.8574 - val_loss: 0.4442 - val_accuracy: 0.8083\n",
      "Epoch 64/100\n",
      "254/255 [============================>.] - ETA: 0s - loss: 0.3270 - accuracy: 0.8638\n",
      "Epoch 00064: val_loss did not improve from 0.44423\n",
      "255/255 [==============================] - 9s 35ms/step - loss: 0.3268 - accuracy: 0.8638 - val_loss: 0.4468 - val_accuracy: 0.8083\n",
      "Epoch 65/100\n",
      "254/255 [============================>.] - ETA: 0s - loss: 0.3203 - accuracy: 0.8677\n",
      "Epoch 00065: val_loss did not improve from 0.44423\n",
      "255/255 [==============================] - 9s 35ms/step - loss: 0.3210 - accuracy: 0.8677 - val_loss: 0.4533 - val_accuracy: 0.8083\n",
      "Epoch 66/100\n",
      "254/255 [============================>.] - ETA: 0s - loss: 0.3283 - accuracy: 0.8583\n",
      "Epoch 00066: val_loss did not improve from 0.44423\n",
      "255/255 [==============================] - 9s 35ms/step - loss: 0.3277 - accuracy: 0.8589 - val_loss: 0.4446 - val_accuracy: 0.8083\n",
      "Epoch 67/100\n",
      "253/255 [============================>.] - ETA: 0s - loss: 0.3311 - accuracy: 0.8572\n",
      "Epoch 00067: val_loss improved from 0.44423 to 0.44386, saving model to modelos/modelo_raiox.h5\n",
      "255/255 [==============================] - 9s 35ms/step - loss: 0.3303 - accuracy: 0.8579 - val_loss: 0.4439 - val_accuracy: 0.8083\n",
      "Epoch 68/100\n",
      "254/255 [============================>.] - ETA: 0s - loss: 0.3209 - accuracy: 0.8623\n",
      "Epoch 00068: val_loss did not improve from 0.44386\n",
      "255/255 [==============================] - 9s 35ms/step - loss: 0.3215 - accuracy: 0.8618 - val_loss: 0.4518 - val_accuracy: 0.8000\n",
      "Epoch 69/100\n",
      "255/255 [==============================] - ETA: 0s - loss: 0.3258 - accuracy: 0.8648\n",
      "Epoch 00069: val_loss did not improve from 0.44386\n",
      "255/255 [==============================] - 9s 35ms/step - loss: 0.3258 - accuracy: 0.8648 - val_loss: 0.4469 - val_accuracy: 0.8083\n",
      "Epoch 70/100\n",
      "255/255 [==============================] - ETA: 0s - loss: 0.3360 - accuracy: 0.8555\n",
      "Epoch 00070: val_loss did not improve from 0.44386\n",
      "255/255 [==============================] - 9s 35ms/step - loss: 0.3360 - accuracy: 0.8555 - val_loss: 0.4449 - val_accuracy: 0.8083\n",
      "Epoch 71/100\n",
      "254/255 [============================>.] - ETA: 0s - loss: 0.3147 - accuracy: 0.8677\n",
      "Epoch 00071: val_loss did not improve from 0.44386\n",
      "255/255 [==============================] - 9s 34ms/step - loss: 0.3164 - accuracy: 0.8668 - val_loss: 0.4478 - val_accuracy: 0.8083\n",
      "Epoch 72/100\n",
      "255/255 [==============================] - ETA: 0s - loss: 0.3277 - accuracy: 0.8599\n",
      "Epoch 00072: val_loss did not improve from 0.44386\n",
      "255/255 [==============================] - 9s 35ms/step - loss: 0.3277 - accuracy: 0.8599 - val_loss: 0.4478 - val_accuracy: 0.8083\n",
      "Epoch 73/100\n",
      "254/255 [============================>.] - ETA: 0s - loss: 0.3246 - accuracy: 0.8702\n",
      "Epoch 00073: val_loss did not improve from 0.44386\n",
      "255/255 [==============================] - 9s 34ms/step - loss: 0.3243 - accuracy: 0.8702 - val_loss: 0.4506 - val_accuracy: 0.8083\n",
      "Epoch 74/100\n",
      "254/255 [============================>.] - ETA: 0s - loss: 0.3210 - accuracy: 0.8603\n",
      "Epoch 00074: val_loss did not improve from 0.44386\n",
      "255/255 [==============================] - 9s 35ms/step - loss: 0.3209 - accuracy: 0.8604 - val_loss: 0.4458 - val_accuracy: 0.8083\n",
      "Epoch 75/100\n",
      "254/255 [============================>.] - ETA: 0s - loss: 0.3226 - accuracy: 0.8653\n",
      "Epoch 00075: val_loss did not improve from 0.44386\n",
      "255/255 [==============================] - 9s 35ms/step - loss: 0.3230 - accuracy: 0.8648 - val_loss: 0.4458 - val_accuracy: 0.8083\n",
      "Epoch 76/100\n",
      "254/255 [============================>.] - ETA: 0s - loss: 0.3204 - accuracy: 0.8608\n",
      "Epoch 00076: val_loss did not improve from 0.44386\n",
      "255/255 [==============================] - 9s 35ms/step - loss: 0.3197 - accuracy: 0.8614 - val_loss: 0.4541 - val_accuracy: 0.8000\n",
      "Epoch 77/100\n",
      "254/255 [============================>.] - ETA: 0s - loss: 0.3161 - accuracy: 0.8643\n",
      "Epoch 00077: val_loss did not improve from 0.44386\n",
      "255/255 [==============================] - 9s 34ms/step - loss: 0.3154 - accuracy: 0.8648 - val_loss: 0.4454 - val_accuracy: 0.8083\n",
      "Epoch 78/100\n",
      "254/255 [============================>.] - ETA: 0s - loss: 0.3166 - accuracy: 0.8687\n",
      "Epoch 00078: val_loss did not improve from 0.44386\n",
      "255/255 [==============================] - 9s 34ms/step - loss: 0.3173 - accuracy: 0.8682 - val_loss: 0.4509 - val_accuracy: 0.8000\n",
      "Epoch 79/100\n",
      "254/255 [============================>.] - ETA: 0s - loss: 0.3179 - accuracy: 0.8653\n",
      "Epoch 00079: val_loss did not improve from 0.44386\n",
      "255/255 [==============================] - 9s 35ms/step - loss: 0.3186 - accuracy: 0.8653 - val_loss: 0.4501 - val_accuracy: 0.8083\n",
      "Epoch 80/100\n",
      "254/255 [============================>.] - ETA: 0s - loss: 0.3135 - accuracy: 0.8628\n",
      "Epoch 00080: val_loss did not improve from 0.44386\n",
      "255/255 [==============================] - 9s 34ms/step - loss: 0.3133 - accuracy: 0.8628 - val_loss: 0.4512 - val_accuracy: 0.8083\n",
      "Epoch 81/100\n",
      "254/255 [============================>.] - ETA: 0s - loss: 0.3116 - accuracy: 0.8657\n",
      "Epoch 00081: val_loss did not improve from 0.44386\n",
      "255/255 [==============================] - 9s 35ms/step - loss: 0.3134 - accuracy: 0.8648 - val_loss: 0.4516 - val_accuracy: 0.8000\n",
      "Epoch 82/100\n",
      "254/255 [============================>.] - ETA: 0s - loss: 0.3096 - accuracy: 0.8717\n",
      "Epoch 00082: val_loss did not improve from 0.44386\n",
      "255/255 [==============================] - 9s 34ms/step - loss: 0.3090 - accuracy: 0.8722 - val_loss: 0.4542 - val_accuracy: 0.8083\n"
     ]
    },
    {
     "name": "stdout",
     "output_type": "stream",
     "text": [
      "Epoch 83/100\n",
      "254/255 [============================>.] - ETA: 0s - loss: 0.3103 - accuracy: 0.8722\n",
      "Epoch 00083: val_loss did not improve from 0.44386\n",
      "255/255 [==============================] - 9s 34ms/step - loss: 0.3126 - accuracy: 0.8717 - val_loss: 0.4452 - val_accuracy: 0.8083\n",
      "Epoch 84/100\n",
      "254/255 [============================>.] - ETA: 0s - loss: 0.3093 - accuracy: 0.8722\n",
      "Epoch 00084: val_loss did not improve from 0.44386\n",
      "255/255 [==============================] - 9s 35ms/step - loss: 0.3089 - accuracy: 0.8727 - val_loss: 0.4515 - val_accuracy: 0.8000\n",
      "Epoch 85/100\n",
      "254/255 [============================>.] - ETA: 0s - loss: 0.3127 - accuracy: 0.8608\n",
      "Epoch 00085: val_loss did not improve from 0.44386\n",
      "255/255 [==============================] - 9s 35ms/step - loss: 0.3137 - accuracy: 0.8604 - val_loss: 0.4502 - val_accuracy: 0.8000\n",
      "Epoch 86/100\n",
      "254/255 [============================>.] - ETA: 0s - loss: 0.3134 - accuracy: 0.8643\n",
      "Epoch 00086: val_loss did not improve from 0.44386\n",
      "255/255 [==============================] - 9s 35ms/step - loss: 0.3140 - accuracy: 0.8638 - val_loss: 0.4517 - val_accuracy: 0.8000\n",
      "Epoch 87/100\n",
      "255/255 [==============================] - ETA: 0s - loss: 0.3122 - accuracy: 0.8697\n",
      "Epoch 00087: val_loss did not improve from 0.44386\n",
      "255/255 [==============================] - 9s 34ms/step - loss: 0.3122 - accuracy: 0.8697 - val_loss: 0.4462 - val_accuracy: 0.8000\n",
      "Epoch 88/100\n",
      "254/255 [============================>.] - ETA: 0s - loss: 0.3099 - accuracy: 0.8702\n",
      "Epoch 00088: val_loss did not improve from 0.44386\n",
      "255/255 [==============================] - 9s 35ms/step - loss: 0.3097 - accuracy: 0.8702 - val_loss: 0.4482 - val_accuracy: 0.8000\n",
      "Epoch 89/100\n",
      "254/255 [============================>.] - ETA: 0s - loss: 0.3141 - accuracy: 0.8707\n",
      "Epoch 00089: val_loss did not improve from 0.44386\n",
      "255/255 [==============================] - 9s 35ms/step - loss: 0.3135 - accuracy: 0.8712 - val_loss: 0.4493 - val_accuracy: 0.8083\n",
      "Epoch 90/100\n",
      "254/255 [============================>.] - ETA: 0s - loss: 0.3115 - accuracy: 0.8682\n",
      "Epoch 00090: val_loss did not improve from 0.44386\n",
      "255/255 [==============================] - 9s 34ms/step - loss: 0.3107 - accuracy: 0.8687 - val_loss: 0.4504 - val_accuracy: 0.8083\n",
      "Epoch 91/100\n",
      "255/255 [==============================] - ETA: 0s - loss: 0.3197 - accuracy: 0.8628\n",
      "Epoch 00091: val_loss did not improve from 0.44386\n",
      "255/255 [==============================] - 9s 34ms/step - loss: 0.3197 - accuracy: 0.8628 - val_loss: 0.4545 - val_accuracy: 0.8000\n",
      "Epoch 92/100\n",
      "255/255 [==============================] - ETA: 0s - loss: 0.3078 - accuracy: 0.8682\n",
      "Epoch 00092: val_loss did not improve from 0.44386\n",
      "255/255 [==============================] - 9s 35ms/step - loss: 0.3078 - accuracy: 0.8682 - val_loss: 0.4516 - val_accuracy: 0.8000\n",
      "Epoch 93/100\n",
      "255/255 [==============================] - ETA: 0s - loss: 0.3056 - accuracy: 0.8702\n",
      "Epoch 00093: val_loss did not improve from 0.44386\n",
      "255/255 [==============================] - 9s 34ms/step - loss: 0.3056 - accuracy: 0.8702 - val_loss: 0.4523 - val_accuracy: 0.8083\n",
      "Epoch 94/100\n",
      "255/255 [==============================] - ETA: 0s - loss: 0.3052 - accuracy: 0.8677\n",
      "Epoch 00094: val_loss did not improve from 0.44386\n",
      "255/255 [==============================] - 11s 43ms/step - loss: 0.3052 - accuracy: 0.8677 - val_loss: 0.4494 - val_accuracy: 0.8000\n",
      "Epoch 95/100\n",
      "254/255 [============================>.] - ETA: 0s - loss: 0.3137 - accuracy: 0.8672\n",
      "Epoch 00095: val_loss did not improve from 0.44386\n",
      "255/255 [==============================] - 12s 48ms/step - loss: 0.3135 - accuracy: 0.8673 - val_loss: 0.4504 - val_accuracy: 0.8083\n",
      "Epoch 96/100\n",
      "254/255 [============================>.] - ETA: 0s - loss: 0.3095 - accuracy: 0.8741\n",
      "Epoch 00096: val_loss did not improve from 0.44386\n",
      "255/255 [==============================] - 12s 49ms/step - loss: 0.3109 - accuracy: 0.8736 - val_loss: 0.4563 - val_accuracy: 0.8000\n",
      "Epoch 97/100\n",
      "255/255 [==============================] - ETA: 0s - loss: 0.3091 - accuracy: 0.8761\n",
      "Epoch 00097: val_loss did not improve from 0.44386\n",
      "255/255 [==============================] - 12s 49ms/step - loss: 0.3091 - accuracy: 0.8761 - val_loss: 0.4536 - val_accuracy: 0.8000\n",
      "Epoch 98/100\n",
      "254/255 [============================>.] - ETA: 0s - loss: 0.2991 - accuracy: 0.8810\n",
      "Epoch 00098: val_loss did not improve from 0.44386\n",
      "255/255 [==============================] - 13s 49ms/step - loss: 0.2987 - accuracy: 0.8815 - val_loss: 0.4573 - val_accuracy: 0.8000\n",
      "Epoch 99/100\n",
      "255/255 [==============================] - ETA: 0s - loss: 0.3057 - accuracy: 0.8677\n",
      "Epoch 00099: val_loss did not improve from 0.44386\n",
      "255/255 [==============================] - 10s 39ms/step - loss: 0.3057 - accuracy: 0.8677 - val_loss: 0.4655 - val_accuracy: 0.8000\n",
      "Epoch 100/100\n",
      "254/255 [============================>.] - ETA: 0s - loss: 0.3113 - accuracy: 0.8692\n",
      "Epoch 00100: val_loss did not improve from 0.44386\n",
      "255/255 [==============================] - 9s 34ms/step - loss: 0.3110 - accuracy: 0.8692 - val_loss: 0.4564 - val_accuracy: 0.8083\n"
     ]
    }
   ],
   "source": [
    "# Treinamento do modelo\n",
    "history = model.fit(gen_treino, \n",
    "                    steps_per_epoch = passos_treino, \n",
    "                    validation_data = gen_val,\n",
    "                    validation_steps = passos_val,\n",
    "                    epochs = num_epochs, \n",
    "                    verbose = 1,\n",
    "                    callbacks = callbacks_list)"
   ]
  },
  {
   "cell_type": "code",
   "execution_count": 62,
   "id": "1411aef3",
   "metadata": {},
   "outputs": [
    {
     "data": {
      "text/plain": [
       "['loss', 'accuracy']"
      ]
     },
     "execution_count": 62,
     "metadata": {},
     "output_type": "execute_result"
    }
   ],
   "source": [
    "# Obtém os nomes das métricas do modelo\n",
    "model.metrics_names"
   ]
  },
  {
   "cell_type": "code",
   "execution_count": 63,
   "id": "d3f2f23a",
   "metadata": {},
   "outputs": [],
   "source": [
    "# Carregamos o modelo treinado\n",
    "model =  tensorflow.keras.models.load_model('modelos/modelo_raiox.h5')"
   ]
  },
  {
   "cell_type": "code",
   "execution_count": 64,
   "id": "a90c8969",
   "metadata": {},
   "outputs": [
    {
     "name": "stdout",
     "output_type": "stream",
     "text": [
      "15/15 [==============================] - 0s 32ms/step - loss: 0.4439 - accuracy: 0.8083\n"
     ]
    }
   ],
   "source": [
    "# Extraímos as métricas de treinamento\n",
    "val_loss, val_acc = model.evaluate(gen_val, steps = passos_val)"
   ]
  },
  {
   "cell_type": "code",
   "execution_count": 65,
   "id": "95cdd80d",
   "metadata": {},
   "outputs": [
    {
     "name": "stdout",
     "output_type": "stream",
     "text": [
      "\n",
      "Erro do Modelo em Validação (val_loss): 0.4438634514808655\n",
      "Acurácia do Modelo em Validação (val_acc): 0.8083333373069763\n"
     ]
    }
   ],
   "source": [
    "# Imprimimos\n",
    "print('\\nErro do Modelo em Validação (val_loss):', val_loss)\n",
    "print('Acurácia do Modelo em Validação (val_acc):', val_acc)"
   ]
  },
  {
   "cell_type": "markdown",
   "id": "8f42f361",
   "metadata": {},
   "source": [
    "Vamos visualizar a curva de aprendizado."
   ]
  },
  {
   "cell_type": "code",
   "execution_count": 66,
   "id": "19460ca3",
   "metadata": {},
   "outputs": [],
   "source": [
    "# Extrai as métricas\n",
    "acc = history.history['accuracy']\n",
    "val_acc = history.history['val_accuracy']\n",
    "loss = history.history['loss']\n",
    "val_loss = history.history['val_loss']\n",
    "epochs = range(1, len(acc) + 1)"
   ]
  },
  {
   "cell_type": "code",
   "execution_count": 67,
   "id": "ecbe507e",
   "metadata": {},
   "outputs": [
    {
     "data": {
      "text/plain": [
       "<Figure size 432x288 with 0 Axes>"
      ]
     },
     "execution_count": 67,
     "metadata": {},
     "output_type": "execute_result"
    },
    {
     "data": {
      "image/png": "[encoded data removed]",
      "text/plain": [
       "<Figure size 432x288 with 1 Axes>"
      ]
     },
     "metadata": {
      "needs_background": "light"
     },
     "output_type": "display_data"
    },
    {
     "data": {
      "image/png": "[encoded data removed]",
      "text/plain": [
       "<Figure size 432x288 with 1 Axes>"
      ]
     },
     "metadata": {
      "needs_background": "light"
     },
     "output_type": "display_data"
    },
    {
     "data": {
      "text/plain": [
       "<Figure size 432x288 with 0 Axes>"
      ]
     },
     "metadata": {},
     "output_type": "display_data"
    }
   ],
   "source": [
    "# Plot\n",
    "\n",
    "plt.plot(epochs, acc, '-', label = 'Acurácia em Treinamento', color = 'blue')\n",
    "plt.title('Acurácia em Treinamento')\n",
    "plt.legend()\n",
    "plt.figure()\n",
    "\n",
    "plt.plot(epochs, loss, '-', label = 'Erro em Treinamento', color = 'red')\n",
    "plt.title('Erro em Treinamento')\n",
    "plt.legend()\n",
    "plt.figure()"
   ]
  },
  {
   "cell_type": "code",
   "execution_count": 68,
   "id": "78f02804",
   "metadata": {},
   "outputs": [
    {
     "data": {
      "text/plain": [
       "<Figure size 432x288 with 0 Axes>"
      ]
     },
     "execution_count": 68,
     "metadata": {},
     "output_type": "execute_result"
    },
    {
     "data": {
      "image/png": "[encoded data removed]",
      "text/plain": [
       "<Figure size 432x288 with 1 Axes>"
      ]
     },
     "metadata": {
      "needs_background": "light"
     },
     "output_type": "display_data"
    },
    {
     "data": {
      "image/png": "[encoded data removed]",
      "text/plain": [
       "<Figure size 432x288 with 1 Axes>"
      ]
     },
     "metadata": {
      "needs_background": "light"
     },
     "output_type": "display_data"
    },
    {
     "data": {
      "text/plain": [
       "<Figure size 432x288 with 0 Axes>"
      ]
     },
     "metadata": {},
     "output_type": "display_data"
    }
   ],
   "source": [
    "# Plot\n",
    "\n",
    "plt.plot(epochs, val_acc, '-', label = 'Acurácia em Validação', color = 'green')\n",
    "plt.title('Acurácia em Validação')\n",
    "plt.legend()\n",
    "plt.figure()\n",
    "\n",
    "plt.plot(epochs, val_loss, '-', label = 'Erro em Validação', color = 'magenta')\n",
    "plt.title('Erro em Validação')\n",
    "plt.legend()\n",
    "plt.figure()"
   ]
  }
 ],
 "metadata": {
  "kernelspec": {
   "display_name": "Python 3 (ipykernel)",
   "language": "python",
   "name": "python3"
  },
  "language_info": {
   "codemirror_mode": {
    "name": "ipython",
    "version": 3
   },
   "file_extension": ".py",
   "mimetype": "text/x-python",
   "name": "python",
   "nbconvert_exporter": "python",
   "pygments_lexer": "ipython3",
   "version": "3.7.6"
  }
 },
 "nbformat": 4,
 "nbformat_minor": 5
}
