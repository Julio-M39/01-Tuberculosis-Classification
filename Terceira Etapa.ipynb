{
 "cells": [
  {
   "cell_type": "markdown",
   "id": "491cee38",
   "metadata": {},
   "source": [
    "### Pacotes"
   ]
  },
  {
   "cell_type": "code",
   "execution_count": 1,
   "id": "02be6c9f",
   "metadata": {},
   "outputs": [
    {
     "name": "stdout",
     "output_type": "stream",
     "text": [
      "Versão da Linguagem Python Usada Neste Jupyter Notebook: 3.7.6\n"
     ]
    }
   ],
   "source": [
    "# Versão da Linguagem Python\n",
    "from platform import python_version\n",
    "print('Versão da Linguagem Python Usada Neste Jupyter Notebook:', python_version())"
   ]
  },
  {
   "cell_type": "code",
   "execution_count": 4,
   "id": "527372fb",
   "metadata": {},
   "outputs": [],
   "source": [
    "# Imports \n",
    "\n",
    "# Imports para manipulação e visualização de dados\n",
    "import numpy as np\n",
    "import pandas as pd\n",
    "import matplotlib\n",
    "import matplotlib.pyplot as plt\n",
    "\n",
    "# Imports para manipulação de imagens\n",
    "import os\n",
    "import cv2\n",
    "import itertools\n",
    "import shutil\n",
    "import imageio\n",
    "import skimage\n",
    "import skimage.io\n",
    "import skimage.transform\n",
    "from pathlib import Path\n",
    "\n",
    "# Imports para Deep Learning\n",
    "import tensorflow\n",
    "import keras\n",
    "from tensorflow.keras.models import Sequential\n",
    "from tensorflow.keras.layers import Dense, Dropout, Flatten\n",
    "from tensorflow.keras.layers import Conv2D, MaxPooling2D\n",
    "from tensorflow.keras.optimizers import Adam \n",
    "from tensorflow.keras.callbacks import EarlyStopping, ModelCheckpoint, Callback, ReduceLROnPlateau\n",
    "from tensorflow.keras.preprocessing.image import ImageDataGenerator\n",
    "from tensorflow.keras.metrics import categorical_crossentropy\n",
    "from tensorflow.keras.metrics import binary_accuracy\n",
    "\n",
    "# Imports para cálculo de métricas e outras tarefas\n",
    "import sklearn\n",
    "from sklearn.utils import shuffle\n",
    "from sklearn.metrics import confusion_matrix\n",
    "from sklearn.model_selection import train_test_split\n",
    "\n",
    "# As novas versões do Pandas e Matplotlib trazem diversas mensagens de aviso ao desenvolvedor. Vamos desativar isso.\n",
    "import sys\n",
    "import warnings\n",
    "import matplotlib.cbook\n",
    "if not sys.warnoptions:\n",
    "    warnings.simplefilter(\"ignore\")\n",
    "warnings.simplefilter(action='ignore', category=FutureWarning)\n",
    "warnings.filterwarnings(\"ignore\", category=FutureWarning)\n",
    "warnings.filterwarnings(\"ignore\", category=matplotlib.cbook.mplDeprecation)\n",
    "\n",
    "%matplotlib inline"
   ]
  },
  {
   "cell_type": "code",
   "execution_count": 5,
   "id": "8959f477",
   "metadata": {},
   "outputs": [
    {
     "name": "stdout",
     "output_type": "stream",
     "text": [
      "Author: Júlio Monteiro\n",
      "\n",
      "sys       : 3.7.6 (default, Jan  8 2020, 19:59:22) \n",
      "[GCC 7.3.0]\n",
      "keras     : 2.3.1\n",
      "sklearn   : 1.0.2\n",
      "tensorflow: 2.3.1\n",
      "numpy     : 1.18.5\n",
      "matplotlib: 3.3.4\n",
      "skimage   : 0.19.1\n",
      "pandas    : 1.0.3\n",
      "imageio   : 2.13.5\n",
      "cv2       : 4.5.5\n",
      "\n"
     ]
    }
   ],
   "source": [
    "# Versões dos pacotes usados neste jupyter notebook\n",
    "%reload_ext watermark\n",
    "%watermark -a \"Júlio Monteiro\" --iversions"
   ]
  },
  {
   "cell_type": "markdown",
   "id": "36766f86",
   "metadata": {},
   "source": [
    "### Avaliação do Modelo"
   ]
  },
  {
   "cell_type": "markdown",
   "id": "94d9189b",
   "metadata": {},
   "source": [
    "### Diretórios"
   ]
  },
  {
   "cell_type": "code",
   "execution_count": 6,
   "id": "88aaeb51",
   "metadata": {},
   "outputs": [],
   "source": [
    "dados_test = 'dataset/dados_test/'"
   ]
  },
  {
   "cell_type": "code",
   "execution_count": 7,
   "id": "91a05c14",
   "metadata": {},
   "outputs": [
    {
     "name": "stdout",
     "output_type": "stream",
     "text": [
      "Found 102 images belonging to 2 classes.\n"
     ]
    }
   ],
   "source": [
    "# Aqui geramos os batches de dados\n",
    "datagen = ImageDataGenerator(rescale = 1.0/255)\n",
    "\n",
    "# Nota: shuffle = False faz com que o conjunto de dados de teste não seja \"embaralhado\"\n",
    "gen_teste = datagen.flow_from_directory(dados_test,\n",
    "                                        target_size = (256,256),\n",
    "                                        batch_size = 1,\n",
    "                                        class_mode = 'categorical',\n",
    "                                        shuffle = False)"
   ]
  },
  {
   "cell_type": "markdown",
   "id": "c6f1931c",
   "metadata": {},
   "source": [
    "### Modelo"
   ]
  },
  {
   "cell_type": "code",
   "execution_count": 12,
   "id": "d3f2f23a",
   "metadata": {},
   "outputs": [],
   "source": [
    "# Carregamos o modelo treinado\n",
    "model =  tensorflow.keras.models.load_model('modelos/modelo_raiox.h5')"
   ]
  },
  {
   "cell_type": "code",
   "execution_count": 13,
   "id": "a90c8969",
   "metadata": {},
   "outputs": [
    {
     "name": "stdout",
     "output_type": "stream",
     "text": [
      "102/102 [==============================] - 1s 7ms/step - loss: 0.3758 - accuracy: 0.8137\n"
     ]
    }
   ],
   "source": [
    "# Extraímos as métricas\n",
    "val_loss, val_acc = model.evaluate(gen_teste, steps = 102)"
   ]
  },
  {
   "cell_type": "markdown",
   "id": "3cf0076f",
   "metadata": {},
   "source": [
    "### Previsões nos dados de teste"
   ]
  },
  {
   "cell_type": "code",
   "execution_count": 14,
   "id": "fb935b60",
   "metadata": {},
   "outputs": [],
   "source": [
    "# Vamos obter os labels dos dados de teste\n",
    "labels_teste = gen_teste.classes"
   ]
  },
  {
   "cell_type": "code",
   "execution_count": 15,
   "id": "5fa8fbb4",
   "metadata": {},
   "outputs": [
    {
     "data": {
      "text/plain": [
       "(102,)"
      ]
     },
     "execution_count": 15,
     "metadata": {},
     "output_type": "execute_result"
    }
   ],
   "source": [
    "# Precisamos dos labels para o plot da matriz de confusão\n",
    "labels_teste.shape"
   ]
  },
  {
   "cell_type": "code",
   "execution_count": 16,
   "id": "f0cf2aec",
   "metadata": {},
   "outputs": [
    {
     "data": {
      "text/plain": [
       "{'Normal': 0, 'Tuberculose': 1}"
      ]
     },
     "execution_count": 16,
     "metadata": {},
     "output_type": "execute_result"
    }
   ],
   "source": [
    "# Imprimimos a etiqueta (label) associada a cada classe\n",
    "gen_teste.class_indices"
   ]
  },
  {
   "cell_type": "code",
   "execution_count": 19,
   "id": "304299d7",
   "metadata": {},
   "outputs": [
    {
     "name": "stdout",
     "output_type": "stream",
     "text": [
      "102/102 [==============================] - 1s 7ms/step\n"
     ]
    }
   ],
   "source": [
    "# Fazemos as previsões\n",
    "previsoes = model.predict(gen_teste, steps = 102, verbose = 1)"
   ]
  },
  {
   "cell_type": "code",
   "execution_count": 20,
   "id": "09ce9ba9",
   "metadata": {},
   "outputs": [
    {
     "data": {
      "text/plain": [
       "(102, 2)"
      ]
     },
     "execution_count": 20,
     "metadata": {},
     "output_type": "execute_result"
    }
   ],
   "source": [
    "# Shape das previsões\n",
    "previsoes.shape"
   ]
  },
  {
   "cell_type": "markdown",
   "id": "babd8b96",
   "metadata": {},
   "source": [
    "Vamos plotar uma Matriz de Confusão - Confusion Matrix."
   ]
  },
  {
   "cell_type": "code",
   "execution_count": 26,
   "id": "764e1bac",
   "metadata": {},
   "outputs": [],
   "source": [
    "# Função para a Matriz de Confusão\n",
    "def plot_confusion_matrix(cm, \n",
    "                          classes,\n",
    "                          normalize = False,\n",
    "                          title = 'Matriz de Confusão',\n",
    "                          cmap = plt.cm.Blues):\n",
    "\n",
    "    # Se normalize = True, obtemos a matriz de confusão com dados normalizados\n",
    "    if normalize:\n",
    "        cm = cm.astype('float') / cm.sum(axis = 1)[:, np.newaxis]\n",
    "        print(\"Matriz de Confusão Normalizada\")\n",
    "    else:\n",
    "        print('Matriz de Confusão Sem Normalização')\n",
    "\n",
    "    # Mostramos a Matriz de Confusão\n",
    "    print(cm)\n",
    "\n",
    "    # Plot\n",
    "    plt.imshow(cm, interpolation = 'nearest', cmap = cmap)\n",
    "    plt.title(title)\n",
    "    plt.colorbar()\n",
    "    tick_marks = np.arange(len(classes))\n",
    "    plt.xticks(tick_marks, classes, rotation = 45)\n",
    "    plt.yticks(tick_marks, classes)\n",
    "    fmt = '.2f' if normalize else 'd'\n",
    "    thresh = cm.max() / 2.\n",
    "    \n",
    "    # Plot do texto\n",
    "    for i, j in itertools.product(range(cm.shape[0]), range(cm.shape[1])):\n",
    "        plt.text(j, i, format(cm[i, j], fmt), \n",
    "                 horizontalalignment = \"center\",\n",
    "                 color = \"white\" if cm[i, j] > thresh else \"black\")\n",
    "\n",
    "    plt.ylabel('Label Verdadeiro')\n",
    "    plt.xlabel('Label Previsto')\n",
    "    plt.tight_layout()"
   ]
  },
  {
   "cell_type": "code",
   "execution_count": 27,
   "id": "5546e8eb",
   "metadata": {},
   "outputs": [],
   "source": [
    "# A função argmax() retorna o índice do valor máximo em uma linha\n",
    "matriz_conf = confusion_matrix(labels_teste, previsoes.argmax(axis = 1))"
   ]
  },
  {
   "cell_type": "code",
   "execution_count": 28,
   "id": "ffb33773",
   "metadata": {},
   "outputs": [
    {
     "data": {
      "text/plain": [
       "{'Normal': 0, 'Tuberculose': 1}"
      ]
     },
     "execution_count": 28,
     "metadata": {},
     "output_type": "execute_result"
    }
   ],
   "source": [
    "# Labels dos dados de teste\n",
    "gen_teste.class_indices"
   ]
  },
  {
   "cell_type": "code",
   "execution_count": 29,
   "id": "3a3dfe22",
   "metadata": {},
   "outputs": [],
   "source": [
    "# Definimos os rótulos dos labels da classe. Eles precisam corresponder a ordem mostrada acima.\n",
    "matriz_conf_plot_labels = ['Normal', 'Tuberculose']"
   ]
  },
  {
   "cell_type": "code",
   "execution_count": 30,
   "id": "56e167eb",
   "metadata": {},
   "outputs": [
    {
     "name": "stdout",
     "output_type": "stream",
     "text": [
      "Matriz de Confusão Sem Normalização\n",
      "[[46  6]\n",
      " [13 37]]\n"
     ]
    },
    {
     "data": {
      "image/png": "[encoded data removed]",
      "text/plain": [
       "<Figure size 432x288 with 2 Axes>"
      ]
     },
     "metadata": {
      "needs_background": "light"
     },
     "output_type": "display_data"
    }
   ],
   "source": [
    "# E então criamos o plot\n",
    "plot_confusion_matrix(matriz_conf, matriz_conf_plot_labels, title = 'Matriz de Confusão')"
   ]
  },
  {
   "cell_type": "markdown",
   "id": "d0e39bcc",
   "metadata": {},
   "source": [
    "### Relatório de Classificação"
   ]
  },
  {
   "cell_type": "code",
   "execution_count": 31,
   "id": "d9a2ac56",
   "metadata": {},
   "outputs": [],
   "source": [
    "# Geramos a sequência na qual o gerador processou as imagens de teste\n",
    "imagens_teste = gen_teste.filenames"
   ]
  },
  {
   "cell_type": "code",
   "execution_count": 32,
   "id": "a82b2271",
   "metadata": {},
   "outputs": [
    {
     "data": {
      "text/plain": [
       "['Normal/CHNCXR_0001_0.png',\n",
       " 'Normal/CHNCXR_0027_0.png',\n",
       " 'Normal/CHNCXR_0032_0.png',\n",
       " 'Normal/CHNCXR_0036_0.png',\n",
       " 'Normal/CHNCXR_0037_0.png',\n",
       " 'Normal/CHNCXR_0042_0.png',\n",
       " 'Normal/CHNCXR_0052_0.png',\n",
       " 'Normal/CHNCXR_0053_0.png',\n",
       " 'Normal/CHNCXR_0070_0.png',\n",
       " 'Normal/CHNCXR_0073_0.png',\n",
       " 'Normal/CHNCXR_0084_0.png',\n",
       " 'Normal/CHNCXR_0086_0.png',\n",
       " 'Normal/CHNCXR_0090_0.png',\n",
       " 'Normal/CHNCXR_0092_0.png',\n",
       " 'Normal/CHNCXR_0110_0.png',\n",
       " 'Normal/CHNCXR_0121_0.png',\n",
       " 'Normal/CHNCXR_0123_0.png',\n",
       " 'Normal/CHNCXR_0124_0.png',\n",
       " 'Normal/CHNCXR_0125_0.png',\n",
       " 'Normal/CHNCXR_0146_0.png',\n",
       " 'Normal/CHNCXR_0153_0.png',\n",
       " 'Normal/CHNCXR_0166_0.png',\n",
       " 'Normal/CHNCXR_0181_0.png',\n",
       " 'Normal/CHNCXR_0184_0.png',\n",
       " 'Normal/CHNCXR_0191_0.png',\n",
       " 'Normal/CHNCXR_0201_0.png',\n",
       " 'Normal/CHNCXR_0205_0.png',\n",
       " 'Normal/CHNCXR_0211_0.png',\n",
       " 'Normal/CHNCXR_0215_0.png',\n",
       " 'Normal/CHNCXR_0217_0.png',\n",
       " 'Normal/CHNCXR_0226_0.png',\n",
       " 'Normal/CHNCXR_0246_0.png',\n",
       " 'Normal/CHNCXR_0254_0.png',\n",
       " 'Normal/CHNCXR_0257_0.png',\n",
       " 'Normal/CHNCXR_0264_0.png',\n",
       " 'Normal/CHNCXR_0281_0.png',\n",
       " 'Normal/CHNCXR_0286_0.png',\n",
       " 'Normal/CHNCXR_0288_0.png',\n",
       " 'Normal/CHNCXR_0290_0.png',\n",
       " 'Normal/CHNCXR_0293_0.png',\n",
       " 'Normal/CHNCXR_0295_0.png',\n",
       " 'Normal/CHNCXR_0297_0.png',\n",
       " 'Normal/MCUCXR_0002_0.png',\n",
       " 'Normal/MCUCXR_0006_0.png',\n",
       " 'Normal/MCUCXR_0024_0.png',\n",
       " 'Normal/MCUCXR_0026_0.png',\n",
       " 'Normal/MCUCXR_0046_0.png',\n",
       " 'Normal/MCUCXR_0059_0.png',\n",
       " 'Normal/MCUCXR_0084_0.png',\n",
       " 'Normal/MCUCXR_0087_0.png',\n",
       " 'Normal/MCUCXR_0094_0.png',\n",
       " 'Normal/MCUCXR_0101_0.png',\n",
       " 'Tuberculose/CHNCXR_0327_1.png',\n",
       " 'Tuberculose/CHNCXR_0333_1.png',\n",
       " 'Tuberculose/CHNCXR_0351_1.png',\n",
       " 'Tuberculose/CHNCXR_0356_1.png',\n",
       " 'Tuberculose/CHNCXR_0369_1.png',\n",
       " 'Tuberculose/CHNCXR_0370_1.png',\n",
       " 'Tuberculose/CHNCXR_0375_1.png',\n",
       " 'Tuberculose/CHNCXR_0378_1.png',\n",
       " 'Tuberculose/CHNCXR_0388_1.png',\n",
       " 'Tuberculose/CHNCXR_0395_1.png',\n",
       " 'Tuberculose/CHNCXR_0396_1.png',\n",
       " 'Tuberculose/CHNCXR_0400_1.png',\n",
       " 'Tuberculose/CHNCXR_0406_1.png',\n",
       " 'Tuberculose/CHNCXR_0412_1.png',\n",
       " 'Tuberculose/CHNCXR_0419_1.png',\n",
       " 'Tuberculose/CHNCXR_0439_1.png',\n",
       " 'Tuberculose/CHNCXR_0451_1.png',\n",
       " 'Tuberculose/CHNCXR_0457_1.png',\n",
       " 'Tuberculose/CHNCXR_0462_1.png',\n",
       " 'Tuberculose/CHNCXR_0475_1.png',\n",
       " 'Tuberculose/CHNCXR_0490_1.png',\n",
       " 'Tuberculose/CHNCXR_0495_1.png',\n",
       " 'Tuberculose/CHNCXR_0496_1.png',\n",
       " 'Tuberculose/CHNCXR_0512_1.png',\n",
       " 'Tuberculose/CHNCXR_0518_1.png',\n",
       " 'Tuberculose/CHNCXR_0525_1.png',\n",
       " 'Tuberculose/CHNCXR_0528_1.png',\n",
       " 'Tuberculose/CHNCXR_0539_1.png',\n",
       " 'Tuberculose/CHNCXR_0540_1.png',\n",
       " 'Tuberculose/CHNCXR_0544_1.png',\n",
       " 'Tuberculose/CHNCXR_0547_1.png',\n",
       " 'Tuberculose/CHNCXR_0557_1.png',\n",
       " 'Tuberculose/CHNCXR_0559_1.png',\n",
       " 'Tuberculose/CHNCXR_0595_1.png',\n",
       " 'Tuberculose/CHNCXR_0606_1.png',\n",
       " 'Tuberculose/CHNCXR_0621_1.png',\n",
       " 'Tuberculose/CHNCXR_0632_1.png',\n",
       " 'Tuberculose/MCUCXR_0126_1.png',\n",
       " 'Tuberculose/MCUCXR_0170_1.png',\n",
       " 'Tuberculose/MCUCXR_0188_1.png',\n",
       " 'Tuberculose/MCUCXR_0228_1.png',\n",
       " 'Tuberculose/MCUCXR_0251_1.png',\n",
       " 'Tuberculose/MCUCXR_0258_1.png',\n",
       " 'Tuberculose/MCUCXR_0289_1.png',\n",
       " 'Tuberculose/MCUCXR_0301_1.png',\n",
       " 'Tuberculose/MCUCXR_0331_1.png',\n",
       " 'Tuberculose/MCUCXR_0334_1.png',\n",
       " 'Tuberculose/MCUCXR_0348_1.png',\n",
       " 'Tuberculose/MCUCXR_0387_1.png',\n",
       " 'Tuberculose/MCUCXR_0390_1.png']"
      ]
     },
     "execution_count": 32,
     "metadata": {},
     "output_type": "execute_result"
    }
   ],
   "source": [
    "imagens_teste"
   ]
  },
  {
   "cell_type": "code",
   "execution_count": 33,
   "id": "ffcc3953",
   "metadata": {},
   "outputs": [],
   "source": [
    "# Obtemos os rótulos verdadeiros\n",
    "y_true = gen_teste.classes"
   ]
  },
  {
   "cell_type": "code",
   "execution_count": 34,
   "id": "6909b215",
   "metadata": {},
   "outputs": [],
   "source": [
    "# Obtemos os rótulos previstos\n",
    "y_pred = previsoes.argmax(axis=1)"
   ]
  },
  {
   "cell_type": "code",
   "execution_count": 35,
   "id": "0c400e01",
   "metadata": {},
   "outputs": [],
   "source": [
    "from sklearn.metrics import classification_report"
   ]
  },
  {
   "cell_type": "code",
   "execution_count": 36,
   "id": "863806f3",
   "metadata": {},
   "outputs": [
    {
     "name": "stdout",
     "output_type": "stream",
     "text": [
      "              precision    recall  f1-score   support\n",
      "\n",
      "      Normal       0.78      0.88      0.83        52\n",
      " Tuberculose       0.86      0.74      0.80        50\n",
      "\n",
      "    accuracy                           0.81       102\n",
      "   macro avg       0.82      0.81      0.81       102\n",
      "weighted avg       0.82      0.81      0.81       102\n",
      "\n"
     ]
    }
   ],
   "source": [
    "# Gera o relatório de classificação\n",
    "report = classification_report(y_true, y_pred, target_names = matriz_conf_plot_labels)\n",
    "print(report)"
   ]
  },
  {
   "cell_type": "markdown",
   "id": "377bf0a5",
   "metadata": {},
   "source": [
    "- Recall = Dada uma classe, o classificador será capaz de detectá-la?\n",
    "\n",
    "- Precision = Dada uma previsão de classe, qual a probabilidade de estar correta?\n",
    "\n",
    "- F1 Score = A média harmônica de Recall e Precision. Essencialmente, ele pune valores extremos.\n",
    "\n",
    "No geral, modelo apresenta um bom equilíbrio, embora ainda tenhamos espaço para melhorias."
   ]
  },
  {
   "cell_type": "code",
   "execution_count": null,
   "id": "bb1ff84b",
   "metadata": {},
   "outputs": [],
   "source": []
  }
 ],
 "metadata": {
  "kernelspec": {
   "display_name": "Python 3 (ipykernel)",
   "language": "python",
   "name": "python3"
  },
  "language_info": {
   "codemirror_mode": {
    "name": "ipython",
    "version": 3
   },
   "file_extension": ".py",
   "mimetype": "text/x-python",
   "name": "python",
   "nbconvert_exporter": "python",
   "pygments_lexer": "ipython3",
   "version": "3.7.6"
  }
 },
 "nbformat": 4,
 "nbformat_minor": 5
}
