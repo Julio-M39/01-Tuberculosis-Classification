{
 "cells": [
  {
   "cell_type": "markdown",
   "id": "491cee38",
   "metadata": {},
   "source": [
    "### Pacotes"
   ]
  },
  {
   "cell_type": "code",
   "execution_count": 2,
   "id": "02be6c9f",
   "metadata": {},
   "outputs": [
    {
     "name": "stdout",
     "output_type": "stream",
     "text": [
      "Versão da Linguagem Python Usada Neste Jupyter Notebook: 3.7.6\n"
     ]
    }
   ],
   "source": [
    "# Versão da Linguagem Python\n",
    "from platform import python_version\n",
    "print('Versão da Linguagem Python Usada Neste Jupyter Notebook:', python_version())"
   ]
  },
  {
   "cell_type": "code",
   "execution_count": 4,
   "id": "527372fb",
   "metadata": {},
   "outputs": [],
   "source": [
    "# Imports \n",
    "\n",
    "# Imports para manipulação e visualização de dados\n",
    "import numpy as np\n",
    "import pandas as pd\n",
    "import matplotlib\n",
    "import matplotlib.pyplot as plt\n",
    "\n",
    "# Imports para manipulação de imagens\n",
    "import os\n",
    "import cv2\n",
    "import itertools\n",
    "import shutil\n",
    "import imageio\n",
    "import skimage\n",
    "import skimage.io\n",
    "import skimage.transform\n",
    "from pathlib import Path\n",
    "\n",
    "# Imports para Deep Learning\n",
    "import tensorflow\n",
    "import keras\n",
    "from keras.applications import MobileNetV2\n",
    "from tensorflow.keras.models import Sequential\n",
    "from tensorflow.keras.layers import Dense, Dropout, Flatten\n",
    "from tensorflow.keras.layers import Conv2D, MaxPooling2D, GlobalAveragePooling2D\n",
    "from tensorflow.keras.optimizers import Adam \n",
    "from tensorflow.keras.callbacks import EarlyStopping, ModelCheckpoint, Callback, ReduceLROnPlateau\n",
    "from tensorflow.keras.preprocessing.image import ImageDataGenerator\n",
    "from tensorflow.keras.metrics import categorical_crossentropy\n",
    "from tensorflow.keras.metrics import binary_accuracy\n",
    "\n",
    "# Imports para cálculo de métricas e outras tarefas\n",
    "import sklearn\n",
    "from sklearn.utils import shuffle\n",
    "from sklearn.metrics import confusion_matrix\n",
    "from sklearn.model_selection import train_test_split\n",
    "\n",
    "# As novas versões do Pandas e Matplotlib trazem diversas mensagens de aviso ao desenvolvedor. Vamos desativar isso.\n",
    "import sys\n",
    "import warnings\n",
    "import matplotlib.cbook\n",
    "if not sys.warnoptions:\n",
    "    warnings.simplefilter(\"ignore\")\n",
    "warnings.simplefilter(action='ignore', category=FutureWarning)\n",
    "warnings.filterwarnings(\"ignore\", category=FutureWarning)\n",
    "warnings.filterwarnings(\"ignore\", category=matplotlib.cbook.mplDeprecation)\n",
    "\n",
    "%matplotlib inline"
   ]
  },
  {
   "cell_type": "code",
   "execution_count": 5,
   "id": "8959f477",
   "metadata": {},
   "outputs": [
    {
     "name": "stdout",
     "output_type": "stream",
     "text": [
      "Author: Júlio Monteiro\n",
      "\n",
      "skimage   : 0.19.1\n",
      "imageio   : 2.13.5\n",
      "pandas    : 1.0.3\n",
      "matplotlib: 3.3.4\n",
      "cv2       : 4.2.0\n",
      "tensorflow: 2.3.1\n",
      "keras     : 2.2.4\n",
      "sklearn   : 1.0.2\n",
      "numpy     : 1.18.5\n",
      "sys       : 3.7.6 (default, Jan  8 2020, 19:59:22) \n",
      "[GCC 7.3.0]\n",
      "\n"
     ]
    }
   ],
   "source": [
    "# Versões dos pacotes usados neste jupyter notebook\n",
    "%reload_ext watermark\n",
    "%watermark -a \"Júlio Monteiro\" --iversions"
   ]
  },
  {
   "cell_type": "markdown",
   "id": "36766f86",
   "metadata": {},
   "source": [
    "###  Construção do Modelo"
   ]
  },
  {
   "cell_type": "markdown",
   "id": "94d9189b",
   "metadata": {},
   "source": [
    "### Diretórios"
   ]
  },
  {
   "cell_type": "code",
   "execution_count": 6,
   "id": "88aaeb51",
   "metadata": {},
   "outputs": [],
   "source": [
    "dados_treino = 'dataset/dados_treino/'\n",
    "dados_val = 'dataset/dados_val/'\n",
    "dados_test = 'dataset/dados_test/'"
   ]
  },
  {
   "cell_type": "markdown",
   "id": "11bfa5b9",
   "metadata": {},
   "source": [
    "Variáveis para definir as amostras nos batches de dados."
   ]
  },
  {
   "cell_type": "code",
   "execution_count": 11,
   "id": "c744804d",
   "metadata": {},
   "outputs": [],
   "source": [
    "# Número de exemplos de treinamento\n",
    "num_amostras_treino = 2034\n",
    "\n",
    "# Número de exemplos de validação\n",
    "num_amostras_val = 340\n",
    "\n",
    "# Tamanho do batch de treino\n",
    "batch_size_treino = 4\n",
    "\n",
    "# Tamanho do batch de validação\n",
    "batch_size_val = 4"
   ]
  },
  {
   "cell_type": "markdown",
   "id": "5a0ac836",
   "metadata": {},
   "source": [
    "Passos de treino e validação."
   ]
  },
  {
   "cell_type": "code",
   "execution_count": 12,
   "id": "28ecef5c",
   "metadata": {},
   "outputs": [],
   "source": [
    "# Aqui definimos o número de passos\n",
    "passos_treino = np.ceil(num_amostras_treino / batch_size_treino)\n",
    "passos_val = np.ceil(num_amostras_val / batch_size_val)"
   ]
  },
  {
   "cell_type": "code",
   "execution_count": 13,
   "id": "96868b14",
   "metadata": {},
   "outputs": [
    {
     "name": "stdout",
     "output_type": "stream",
     "text": [
      "509.0\n",
      "85.0\n"
     ]
    }
   ],
   "source": [
    "# Quantidade\n",
    "print(passos_treino)\n",
    "print(passos_val)"
   ]
  },
  {
   "cell_type": "markdown",
   "id": "4156b347",
   "metadata": {},
   "source": [
    "Geramos os batches de dados para treino, validação e teste."
   ]
  },
  {
   "cell_type": "code",
   "execution_count": 29,
   "id": "91a05c14",
   "metadata": {},
   "outputs": [
    {
     "name": "stdout",
     "output_type": "stream",
     "text": [
      "Found 2034 images belonging to 2 classes.\n",
      "Found 340 images belonging to 2 classes.\n",
      "Found 102 images belonging to 2 classes.\n"
     ]
    }
   ],
   "source": [
    "# Aqui geramos os batches de dados\n",
    "datagen = ImageDataGenerator(rescale = 1.0/255)\n",
    "\n",
    "# Gera os batches de treino\n",
    "gen_treino = datagen.flow_from_directory(dados_treino,\n",
    "                                         target_size = (256,256),\n",
    "                                         batch_size = batch_size_treino,\n",
    "                                         class_mode = 'categorical')\n",
    "\n",
    "# Gera os batches de validação\n",
    "gen_val = datagen.flow_from_directory(dados_val,\n",
    "                                      target_size = (256,256),\n",
    "                                      batch_size = batch_size_val,\n",
    "                                      class_mode = 'categorical')\n",
    "\n",
    "# Gera os batches de teste\n",
    "# Nota: shuffle = False faz com que o conjunto de dados de teste não seja \"embaralhado\"\n",
    "gen_teste = datagen.flow_from_directory(dados_test,\n",
    "                                        target_size = (256,256),\n",
    "                                        batch_size = 1,\n",
    "                                        class_mode = 'categorical',\n",
    "                                        shuffle = False)"
   ]
  },
  {
   "cell_type": "markdown",
   "id": "81d39e99",
   "metadata": {},
   "source": [
    "### Arquitetura "
   ]
  },
  {
   "cell_type": "markdown",
   "id": "c2d1db6c",
   "metadata": {},
   "source": [
    "Aqui está a arquitetura do modelo. Definimos o número de camadas e a função de ativação usada.\n",
    "\n",
    "Cada problema requer uma arquitetura diferente."
   ]
  },
  {
   "cell_type": "code",
   "execution_count": 30,
   "id": "bd959a31",
   "metadata": {},
   "outputs": [],
   "source": [
    "# Criamos o modelo base\n",
    "modelo_base = tensorflow.keras.applications.VGG16(weights = 'imagenet', \n",
    "                                                include_top = False, \n",
    "                                                input_shape = (256,256,3))"
   ]
  },
  {
   "cell_type": "code",
   "execution_count": 31,
   "id": "a19ae688",
   "metadata": {},
   "outputs": [
    {
     "name": "stdout",
     "output_type": "stream",
     "text": [
      "Model: \"vgg16\"\n",
      "_________________________________________________________________\n",
      "Layer (type)                 Output Shape              Param #   \n",
      "=================================================================\n",
      "input_3 (InputLayer)         [(None, 256, 256, 3)]     0         \n",
      "_________________________________________________________________\n",
      "block1_conv1 (Conv2D)        (None, 256, 256, 64)      1792      \n",
      "_________________________________________________________________\n",
      "block1_conv2 (Conv2D)        (None, 256, 256, 64)      36928     \n",
      "_________________________________________________________________\n",
      "block1_pool (MaxPooling2D)   (None, 128, 128, 64)      0         \n",
      "_________________________________________________________________\n",
      "block2_conv1 (Conv2D)        (None, 128, 128, 128)     73856     \n",
      "_________________________________________________________________\n",
      "block2_conv2 (Conv2D)        (None, 128, 128, 128)     147584    \n",
      "_________________________________________________________________\n",
      "block2_pool (MaxPooling2D)   (None, 64, 64, 128)       0         \n",
      "_________________________________________________________________\n",
      "block3_conv1 (Conv2D)        (None, 64, 64, 256)       295168    \n",
      "_________________________________________________________________\n",
      "block3_conv2 (Conv2D)        (None, 64, 64, 256)       590080    \n",
      "_________________________________________________________________\n",
      "block3_conv3 (Conv2D)        (None, 64, 64, 256)       590080    \n",
      "_________________________________________________________________\n",
      "block3_pool (MaxPooling2D)   (None, 32, 32, 256)       0         \n",
      "_________________________________________________________________\n",
      "block4_conv1 (Conv2D)        (None, 32, 32, 512)       1180160   \n",
      "_________________________________________________________________\n",
      "block4_conv2 (Conv2D)        (None, 32, 32, 512)       2359808   \n",
      "_________________________________________________________________\n",
      "block4_conv3 (Conv2D)        (None, 32, 32, 512)       2359808   \n",
      "_________________________________________________________________\n",
      "block4_pool (MaxPooling2D)   (None, 16, 16, 512)       0         \n",
      "_________________________________________________________________\n",
      "block5_conv1 (Conv2D)        (None, 16, 16, 512)       2359808   \n",
      "_________________________________________________________________\n",
      "block5_conv2 (Conv2D)        (None, 16, 16, 512)       2359808   \n",
      "_________________________________________________________________\n",
      "block5_conv3 (Conv2D)        (None, 16, 16, 512)       2359808   \n",
      "_________________________________________________________________\n",
      "block5_pool (MaxPooling2D)   (None, 8, 8, 512)         0         \n",
      "=================================================================\n",
      "Total params: 14,714,688\n",
      "Trainable params: 14,714,688\n",
      "Non-trainable params: 0\n",
      "_________________________________________________________________\n"
     ]
    }
   ],
   "source": [
    "# Sumário do modelo base\n",
    "modelo_base.summary()"
   ]
  },
  {
   "cell_type": "code",
   "execution_count": 32,
   "id": "392cdf04",
   "metadata": {},
   "outputs": [],
   "source": [
    "# Adicionamos nossas camadas ao modelo_base\n",
    "\n",
    "# Cria a sequência de camadas\n",
    "add_model = Sequential()\n",
    "\n",
    "# Adiciona primeiro o modelo base\n",
    "add_model.add(modelo_base)\n",
    "\n",
    "# Precisamos de uma camada global de Pooling\n",
    "add_model.add(GlobalAveragePooling2D())\n",
    "\n",
    "# Dropout para regularização e evitar overfitting\n",
    "add_model.add(Dropout(0.5))\n",
    "\n",
    "# 1º Camada densa\n",
    "add_model.add(Dense(8, activation = 'relu'))\n",
    "add_model.add(Dropout(0.5))\n",
    "\n",
    "# Camada de saida com ativação softmax para previsão das probabilidades das classes\n",
    "add_model.add(Dense(2, activation = 'softmax'))"
   ]
  },
  {
   "cell_type": "code",
   "execution_count": 33,
   "id": "69e116c4",
   "metadata": {},
   "outputs": [],
   "source": [
    "# Cria o modelo final\n",
    "modelo_final = add_model"
   ]
  },
  {
   "cell_type": "code",
   "execution_count": 34,
   "id": "bb1a5a83",
   "metadata": {},
   "outputs": [
    {
     "name": "stdout",
     "output_type": "stream",
     "text": [
      "Model: \"sequential_2\"\n",
      "_________________________________________________________________\n",
      "Layer (type)                 Output Shape              Param #   \n",
      "=================================================================\n",
      "vgg16 (Functional)           (None, 8, 8, 512)         14714688  \n",
      "_________________________________________________________________\n",
      "global_average_pooling2d_2 ( (None, 512)               0         \n",
      "_________________________________________________________________\n",
      "dropout_4 (Dropout)          (None, 512)               0         \n",
      "_________________________________________________________________\n",
      "dense_4 (Dense)              (None, 8)                 4104      \n",
      "_________________________________________________________________\n",
      "dropout_5 (Dropout)          (None, 8)                 0         \n",
      "_________________________________________________________________\n",
      "dense_5 (Dense)              (None, 2)                 18        \n",
      "=================================================================\n",
      "Total params: 14,718,810\n",
      "Trainable params: 14,718,810\n",
      "Non-trainable params: 0\n",
      "_________________________________________________________________\n"
     ]
    }
   ],
   "source": [
    "# Sumário do modelo final\n",
    "modelo_final.summary()"
   ]
  },
  {
   "cell_type": "markdown",
   "id": "3e25c99f",
   "metadata": {},
   "source": [
    "### Compilação"
   ]
  },
  {
   "cell_type": "code",
   "execution_count": 35,
   "id": "986a1d18",
   "metadata": {},
   "outputs": [],
   "source": [
    "# Cria o otimizador\n",
    "otimizador = Adam(lr = 0.000001)\n",
    "\n",
    "# Compilação do modelo\n",
    "modelo_final.compile(optimizer = otimizador, \n",
    "              loss = 'binary_crossentropy', \n",
    "              metrics = ['accuracy'])"
   ]
  },
  {
   "cell_type": "markdown",
   "id": "09c49afd",
   "metadata": {},
   "source": [
    "### Callbacks"
   ]
  },
  {
   "cell_type": "code",
   "execution_count": 36,
   "id": "e9467e68",
   "metadata": {},
   "outputs": [],
   "source": [
    "# Definimos um checkpoint para verificar regularmente se a perda em validação diminuiu\n",
    "# Se a performance melhorar em validação salvamos o modelo\n",
    "# Podemos ainda optar por salvar o modelo a cada número de épocas\n",
    "checkpoint = ModelCheckpoint('modelos/modelo_raiox.h5', \n",
    "                             monitor = 'val_loss', \n",
    "                             verbose = 1, \n",
    "                             save_best_only = True, \n",
    "                             mode = 'min')"
   ]
  },
  {
   "cell_type": "markdown",
   "id": "e81f0400",
   "metadata": {},
   "source": [
    "Uma boa estratégia é reduzir a taxa de aprendizado de forma gradativa, sempre que o modelo parar de aprender."
   ]
  },
  {
   "cell_type": "code",
   "execution_count": 37,
   "id": "76b96c9a",
   "metadata": {},
   "outputs": [],
   "source": [
    "# Redução gradual da taxa de aprendizado (Reduce on Plateau)\n",
    "reduce_lr = ReduceLROnPlateau(monitor = 'val_loss', \n",
    "                              factor = 0.5, \n",
    "                              patience = 5, \n",
    "                              verbose = 1, \n",
    "                              mode = 'min', \n",
    "                              min_lr = 0.0000001)"
   ]
  },
  {
   "cell_type": "code",
   "execution_count": 38,
   "id": "e40846ec",
   "metadata": {},
   "outputs": [],
   "source": [
    "# Cria os callbacks que serão usados no treinamento\n",
    "callbacks_list = [checkpoint, reduce_lr]"
   ]
  },
  {
   "cell_type": "markdown",
   "id": "cf2cea53",
   "metadata": {},
   "source": [
    "### Treinamento do Modelo"
   ]
  },
  {
   "cell_type": "code",
   "execution_count": 39,
   "id": "4b73b009",
   "metadata": {},
   "outputs": [
    {
     "name": "stdout",
     "output_type": "stream",
     "text": [
      "Epoch 1/100\n",
      "  1/509 [..............................] - ETA: 0s - loss: 0.6639 - accuracy: 0.5000WARNING:tensorflow:Callbacks method `on_train_batch_end` is slow compared to the batch time (batch time: 0.0149s vs `on_train_batch_end` time: 0.0259s). Check your callbacks.\n",
      "509/509 [==============================] - ETA: 0s - loss: 0.7120 - accuracy: 0.5182\n",
      "Epoch 00001: val_loss improved from inf to 0.69316, saving model to modelos/modelo_raiox.h5\n",
      "509/509 [==============================] - 21s 40ms/step - loss: 0.7120 - accuracy: 0.5182 - val_loss: 0.6932 - val_accuracy: 0.4941\n",
      "Epoch 2/100\n",
      "509/509 [==============================] - ETA: 0s - loss: 0.6954 - accuracy: 0.5388\n",
      "Epoch 00002: val_loss improved from 0.69316 to 0.68322, saving model to modelos/modelo_raiox.h5\n",
      "509/509 [==============================] - 22s 43ms/step - loss: 0.6954 - accuracy: 0.5388 - val_loss: 0.6832 - val_accuracy: 0.4941\n",
      "Epoch 3/100\n",
      "509/509 [==============================] - ETA: 0s - loss: 0.6629 - accuracy: 0.5693\n",
      "Epoch 00003: val_loss improved from 0.68322 to 0.62315, saving model to modelos/modelo_raiox.h5\n",
      "509/509 [==============================] - 23s 45ms/step - loss: 0.6629 - accuracy: 0.5693 - val_loss: 0.6231 - val_accuracy: 0.7088\n",
      "Epoch 4/100\n",
      "509/509 [==============================] - ETA: 0s - loss: 0.6350 - accuracy: 0.6165\n",
      "Epoch 00004: val_loss improved from 0.62315 to 0.59221, saving model to modelos/modelo_raiox.h5\n",
      "509/509 [==============================] - 23s 45ms/step - loss: 0.6350 - accuracy: 0.6165 - val_loss: 0.5922 - val_accuracy: 0.7794\n",
      "Epoch 5/100\n",
      "509/509 [==============================] - ETA: 0s - loss: 0.6191 - accuracy: 0.6568\n",
      "Epoch 00005: val_loss did not improve from 0.59221\n",
      "509/509 [==============================] - 22s 44ms/step - loss: 0.6191 - accuracy: 0.6568 - val_loss: 0.5963 - val_accuracy: 0.7735\n",
      "Epoch 6/100\n",
      "509/509 [==============================] - ETA: 0s - loss: 0.5825 - accuracy: 0.6790\n",
      "Epoch 00006: val_loss improved from 0.59221 to 0.55996, saving model to modelos/modelo_raiox.h5\n",
      "509/509 [==============================] - 23s 45ms/step - loss: 0.5825 - accuracy: 0.6790 - val_loss: 0.5600 - val_accuracy: 0.7735\n",
      "Epoch 7/100\n",
      "509/509 [==============================] - ETA: 0s - loss: 0.5797 - accuracy: 0.7099\n",
      "Epoch 00007: val_loss improved from 0.55996 to 0.54474, saving model to modelos/modelo_raiox.h5\n",
      "509/509 [==============================] - 23s 44ms/step - loss: 0.5797 - accuracy: 0.7099 - val_loss: 0.5447 - val_accuracy: 0.7882\n",
      "Epoch 8/100\n",
      "509/509 [==============================] - ETA: 0s - loss: 0.5737 - accuracy: 0.7006\n",
      "Epoch 00008: val_loss did not improve from 0.54474\n",
      "509/509 [==============================] - 22s 43ms/step - loss: 0.5737 - accuracy: 0.7006 - val_loss: 0.5519 - val_accuracy: 0.7912\n",
      "Epoch 9/100\n",
      "509/509 [==============================] - ETA: 0s - loss: 0.5612 - accuracy: 0.7207\n",
      "Epoch 00009: val_loss improved from 0.54474 to 0.53234, saving model to modelos/modelo_raiox.h5\n",
      "509/509 [==============================] - 22s 44ms/step - loss: 0.5612 - accuracy: 0.7207 - val_loss: 0.5323 - val_accuracy: 0.8206\n",
      "Epoch 10/100\n",
      "509/509 [==============================] - ETA: 0s - loss: 0.5489 - accuracy: 0.7493\n",
      "Epoch 00010: val_loss did not improve from 0.53234\n",
      "509/509 [==============================] - 22s 43ms/step - loss: 0.5489 - accuracy: 0.7493 - val_loss: 0.5435 - val_accuracy: 0.7647\n",
      "Epoch 11/100\n",
      "509/509 [==============================] - ETA: 0s - loss: 0.5437 - accuracy: 0.7488\n",
      "Epoch 00011: val_loss improved from 0.53234 to 0.48086, saving model to modelos/modelo_raiox.h5\n",
      "509/509 [==============================] - 22s 44ms/step - loss: 0.5437 - accuracy: 0.7488 - val_loss: 0.4809 - val_accuracy: 0.8412\n",
      "Epoch 12/100\n",
      "509/509 [==============================] - ETA: 0s - loss: 0.5179 - accuracy: 0.7679\n",
      "Epoch 00012: val_loss improved from 0.48086 to 0.43713, saving model to modelos/modelo_raiox.h5\n",
      "509/509 [==============================] - 22s 43ms/step - loss: 0.5179 - accuracy: 0.7679 - val_loss: 0.4371 - val_accuracy: 0.8529\n",
      "Epoch 13/100\n",
      "509/509 [==============================] - ETA: 0s - loss: 0.5187 - accuracy: 0.7753\n",
      "Epoch 00013: val_loss improved from 0.43713 to 0.42878, saving model to modelos/modelo_raiox.h5\n",
      "509/509 [==============================] - 22s 44ms/step - loss: 0.5187 - accuracy: 0.7753 - val_loss: 0.4288 - val_accuracy: 0.8471\n",
      "Epoch 14/100\n",
      "509/509 [==============================] - ETA: 0s - loss: 0.5041 - accuracy: 0.7861\n",
      "Epoch 00014: val_loss improved from 0.42878 to 0.41438, saving model to modelos/modelo_raiox.h5\n",
      "509/509 [==============================] - 22s 43ms/step - loss: 0.5041 - accuracy: 0.7861 - val_loss: 0.4144 - val_accuracy: 0.8559\n",
      "Epoch 15/100\n",
      "509/509 [==============================] - ETA: 0s - loss: 0.4838 - accuracy: 0.7827\n",
      "Epoch 00015: val_loss did not improve from 0.41438\n",
      "509/509 [==============================] - 22s 42ms/step - loss: 0.4838 - accuracy: 0.7827 - val_loss: 0.4549 - val_accuracy: 0.8147\n",
      "Epoch 16/100\n",
      "509/509 [==============================] - ETA: 0s - loss: 0.4663 - accuracy: 0.8112\n",
      "Epoch 00016: val_loss improved from 0.41438 to 0.41230, saving model to modelos/modelo_raiox.h5\n",
      "509/509 [==============================] - 22s 44ms/step - loss: 0.4663 - accuracy: 0.8112 - val_loss: 0.4123 - val_accuracy: 0.8176\n",
      "Epoch 17/100\n",
      "509/509 [==============================] - ETA: 0s - loss: 0.4389 - accuracy: 0.8196\n",
      "Epoch 00017: val_loss improved from 0.41230 to 0.34197, saving model to modelos/modelo_raiox.h5\n",
      "509/509 [==============================] - 22s 43ms/step - loss: 0.4389 - accuracy: 0.8196 - val_loss: 0.3420 - val_accuracy: 0.8676\n",
      "Epoch 18/100\n",
      "509/509 [==============================] - ETA: 0s - loss: 0.4318 - accuracy: 0.8161\n",
      "Epoch 00018: val_loss did not improve from 0.34197\n",
      "509/509 [==============================] - 22s 42ms/step - loss: 0.4318 - accuracy: 0.8161 - val_loss: 0.4110 - val_accuracy: 0.8176\n",
      "Epoch 19/100\n",
      "509/509 [==============================] - ETA: 0s - loss: 0.4306 - accuracy: 0.8137\n",
      "Epoch 00019: val_loss did not improve from 0.34197\n",
      "509/509 [==============================] - 22s 43ms/step - loss: 0.4306 - accuracy: 0.8137 - val_loss: 0.3544 - val_accuracy: 0.8588\n",
      "Epoch 20/100\n",
      "509/509 [==============================] - ETA: 0s - loss: 0.4312 - accuracy: 0.8142\n",
      "Epoch 00020: val_loss improved from 0.34197 to 0.34108, saving model to modelos/modelo_raiox.h5\n",
      "509/509 [==============================] - 22s 43ms/step - loss: 0.4312 - accuracy: 0.8142 - val_loss: 0.3411 - val_accuracy: 0.8559\n",
      "Epoch 21/100\n",
      "509/509 [==============================] - ETA: 0s - loss: 0.4032 - accuracy: 0.8230\n",
      "Epoch 00021: val_loss did not improve from 0.34108\n",
      "509/509 [==============================] - 22s 42ms/step - loss: 0.4032 - accuracy: 0.8230 - val_loss: 0.3466 - val_accuracy: 0.8588\n",
      "Epoch 22/100\n",
      "509/509 [==============================] - ETA: 0s - loss: 0.4249 - accuracy: 0.8324\n",
      "Epoch 00022: val_loss did not improve from 0.34108\n",
      "509/509 [==============================] - 22s 42ms/step - loss: 0.4249 - accuracy: 0.8324 - val_loss: 0.3688 - val_accuracy: 0.8265\n",
      "Epoch 23/100\n",
      "509/509 [==============================] - ETA: 0s - loss: 0.3831 - accuracy: 0.8353\n",
      "Epoch 00023: val_loss improved from 0.34108 to 0.31973, saving model to modelos/modelo_raiox.h5\n",
      "509/509 [==============================] - 22s 43ms/step - loss: 0.3831 - accuracy: 0.8353 - val_loss: 0.3197 - val_accuracy: 0.8765\n",
      "Epoch 24/100\n",
      "509/509 [==============================] - ETA: 0s - loss: 0.4033 - accuracy: 0.8387\n",
      "Epoch 00024: val_loss did not improve from 0.31973\n",
      "509/509 [==============================] - 22s 42ms/step - loss: 0.4033 - accuracy: 0.8387 - val_loss: 0.3536 - val_accuracy: 0.8618\n",
      "Epoch 25/100\n",
      "509/509 [==============================] - ETA: 0s - loss: 0.3754 - accuracy: 0.8574\n",
      "Epoch 00025: val_loss did not improve from 0.31973\n",
      "509/509 [==============================] - 22s 42ms/step - loss: 0.3754 - accuracy: 0.8574 - val_loss: 0.3396 - val_accuracy: 0.8559\n",
      "Epoch 26/100\n",
      "509/509 [==============================] - ETA: 0s - loss: 0.3758 - accuracy: 0.8505\n",
      "Epoch 00026: val_loss improved from 0.31973 to 0.31713, saving model to modelos/modelo_raiox.h5\n",
      "509/509 [==============================] - 22s 43ms/step - loss: 0.3758 - accuracy: 0.8505 - val_loss: 0.3171 - val_accuracy: 0.8676\n"
     ]
    },
    {
     "name": "stdout",
     "output_type": "stream",
     "text": [
      "Epoch 27/100\n",
      "509/509 [==============================] - ETA: 0s - loss: 0.3608 - accuracy: 0.8530\n",
      "Epoch 00027: val_loss did not improve from 0.31713\n",
      "509/509 [==============================] - 22s 42ms/step - loss: 0.3608 - accuracy: 0.8530 - val_loss: 0.3181 - val_accuracy: 0.8735\n",
      "Epoch 28/100\n",
      "509/509 [==============================] - ETA: 0s - loss: 0.3769 - accuracy: 0.8417\n",
      "Epoch 00028: val_loss did not improve from 0.31713\n",
      "509/509 [==============================] - 21s 42ms/step - loss: 0.3769 - accuracy: 0.8417 - val_loss: 0.3301 - val_accuracy: 0.8647\n",
      "Epoch 29/100\n",
      "509/509 [==============================] - ETA: 0s - loss: 0.3535 - accuracy: 0.8614\n",
      "Epoch 00029: val_loss did not improve from 0.31713\n",
      "509/509 [==============================] - 22s 42ms/step - loss: 0.3535 - accuracy: 0.8614 - val_loss: 0.3181 - val_accuracy: 0.8706\n",
      "Epoch 30/100\n",
      "509/509 [==============================] - ETA: 0s - loss: 0.3412 - accuracy: 0.8663\n",
      "Epoch 00030: val_loss did not improve from 0.31713\n",
      "509/509 [==============================] - 22s 42ms/step - loss: 0.3412 - accuracy: 0.8663 - val_loss: 0.3320 - val_accuracy: 0.8588\n",
      "Epoch 31/100\n",
      "509/509 [==============================] - ETA: 0s - loss: 0.3365 - accuracy: 0.8594\n",
      "Epoch 00031: val_loss did not improve from 0.31713\n",
      "\n",
      "Epoch 00031: ReduceLROnPlateau reducing learning rate to 4.999999987376214e-07.\n",
      "509/509 [==============================] - 22s 42ms/step - loss: 0.3365 - accuracy: 0.8594 - val_loss: 0.3366 - val_accuracy: 0.8647\n",
      "Epoch 32/100\n",
      "509/509 [==============================] - ETA: 0s - loss: 0.3140 - accuracy: 0.8786\n",
      "Epoch 00032: val_loss did not improve from 0.31713\n",
      "509/509 [==============================] - 22s 42ms/step - loss: 0.3140 - accuracy: 0.8786 - val_loss: 0.3429 - val_accuracy: 0.8559\n",
      "Epoch 33/100\n",
      "509/509 [==============================] - ETA: 0s - loss: 0.3122 - accuracy: 0.8707\n",
      "Epoch 00033: val_loss improved from 0.31713 to 0.30097, saving model to modelos/modelo_raiox.h5\n",
      "509/509 [==============================] - 22s 43ms/step - loss: 0.3122 - accuracy: 0.8707 - val_loss: 0.3010 - val_accuracy: 0.8765\n",
      "Epoch 34/100\n",
      "509/509 [==============================] - ETA: 0s - loss: 0.3258 - accuracy: 0.8786\n",
      "Epoch 00034: val_loss did not improve from 0.30097\n",
      "509/509 [==============================] - 21s 42ms/step - loss: 0.3258 - accuracy: 0.8786 - val_loss: 0.3050 - val_accuracy: 0.8735\n",
      "Epoch 35/100\n",
      "509/509 [==============================] - ETA: 0s - loss: 0.3173 - accuracy: 0.8786\n",
      "Epoch 00035: val_loss did not improve from 0.30097\n",
      "509/509 [==============================] - 22s 42ms/step - loss: 0.3173 - accuracy: 0.8786 - val_loss: 0.3414 - val_accuracy: 0.8529\n",
      "Epoch 36/100\n",
      "509/509 [==============================] - ETA: 0s - loss: 0.3122 - accuracy: 0.8810\n",
      "Epoch 00036: val_loss did not improve from 0.30097\n",
      "509/509 [==============================] - 22s 42ms/step - loss: 0.3122 - accuracy: 0.8810 - val_loss: 0.3104 - val_accuracy: 0.8706\n",
      "Epoch 37/100\n",
      "509/509 [==============================] - ETA: 0s - loss: 0.3208 - accuracy: 0.8761\n",
      "Epoch 00037: val_loss did not improve from 0.30097\n",
      "509/509 [==============================] - 22s 42ms/step - loss: 0.3208 - accuracy: 0.8761 - val_loss: 0.3393 - val_accuracy: 0.8647\n",
      "Epoch 38/100\n",
      "509/509 [==============================] - ETA: 0s - loss: 0.3100 - accuracy: 0.8825\n",
      "Epoch 00038: val_loss did not improve from 0.30097\n",
      "\n",
      "Epoch 00038: ReduceLROnPlateau reducing learning rate to 2.499999993688107e-07.\n",
      "509/509 [==============================] - 22s 42ms/step - loss: 0.3100 - accuracy: 0.8825 - val_loss: 0.3131 - val_accuracy: 0.8735\n",
      "Epoch 39/100\n",
      "509/509 [==============================] - ETA: 0s - loss: 0.2928 - accuracy: 0.8894\n",
      "Epoch 00039: val_loss did not improve from 0.30097\n",
      "509/509 [==============================] - 22s 42ms/step - loss: 0.2928 - accuracy: 0.8894 - val_loss: 0.3095 - val_accuracy: 0.8706\n",
      "Epoch 40/100\n",
      "509/509 [==============================] - ETA: 0s - loss: 0.2780 - accuracy: 0.8776\n",
      "Epoch 00040: val_loss did not improve from 0.30097\n",
      "509/509 [==============================] - 22s 42ms/step - loss: 0.2780 - accuracy: 0.8776 - val_loss: 0.3206 - val_accuracy: 0.8735\n",
      "Epoch 41/100\n",
      "509/509 [==============================] - ETA: 0s - loss: 0.2991 - accuracy: 0.8884\n",
      "Epoch 00041: val_loss did not improve from 0.30097\n",
      "509/509 [==============================] - 22s 42ms/step - loss: 0.2991 - accuracy: 0.8884 - val_loss: 0.3292 - val_accuracy: 0.8706\n",
      "Epoch 42/100\n",
      "509/509 [==============================] - ETA: 0s - loss: 0.2950 - accuracy: 0.8835\n",
      "Epoch 00042: val_loss did not improve from 0.30097\n",
      "509/509 [==============================] - 22s 42ms/step - loss: 0.2950 - accuracy: 0.8835 - val_loss: 0.3055 - val_accuracy: 0.8765\n",
      "Epoch 43/100\n",
      "509/509 [==============================] - ETA: 0s - loss: 0.2977 - accuracy: 0.8874\n",
      "Epoch 00043: val_loss did not improve from 0.30097\n",
      "\n",
      "Epoch 00043: ReduceLROnPlateau reducing learning rate to 1.2499999968440534e-07.\n",
      "509/509 [==============================] - 22s 42ms/step - loss: 0.2977 - accuracy: 0.8874 - val_loss: 0.3278 - val_accuracy: 0.8647\n",
      "Epoch 44/100\n",
      "509/509 [==============================] - ETA: 0s - loss: 0.2838 - accuracy: 0.8933\n",
      "Epoch 00044: val_loss improved from 0.30097 to 0.29369, saving model to modelos/modelo_raiox.h5\n",
      "509/509 [==============================] - 22s 43ms/step - loss: 0.2838 - accuracy: 0.8933 - val_loss: 0.2937 - val_accuracy: 0.8853\n",
      "Epoch 45/100\n",
      "509/509 [==============================] - ETA: 0s - loss: 0.2772 - accuracy: 0.8854\n",
      "Epoch 00045: val_loss did not improve from 0.29369\n",
      "509/509 [==============================] - 21s 42ms/step - loss: 0.2772 - accuracy: 0.8854 - val_loss: 0.2986 - val_accuracy: 0.8794\n",
      "Epoch 46/100\n",
      "509/509 [==============================] - ETA: 0s - loss: 0.2903 - accuracy: 0.8864\n",
      "Epoch 00046: val_loss improved from 0.29369 to 0.29297, saving model to modelos/modelo_raiox.h5\n",
      "509/509 [==============================] - 22s 43ms/step - loss: 0.2903 - accuracy: 0.8864 - val_loss: 0.2930 - val_accuracy: 0.8853\n",
      "Epoch 47/100\n",
      "509/509 [==============================] - ETA: 0s - loss: 0.2666 - accuracy: 0.8968\n",
      "Epoch 00047: val_loss did not improve from 0.29297\n",
      "509/509 [==============================] - 22s 42ms/step - loss: 0.2666 - accuracy: 0.8968 - val_loss: 0.3159 - val_accuracy: 0.8765\n",
      "Epoch 48/100\n",
      "509/509 [==============================] - ETA: 0s - loss: 0.2916 - accuracy: 0.8707\n",
      "Epoch 00048: val_loss did not improve from 0.29297\n",
      "509/509 [==============================] - 22s 42ms/step - loss: 0.2916 - accuracy: 0.8707 - val_loss: 0.3068 - val_accuracy: 0.8794\n",
      "Epoch 49/100\n",
      "509/509 [==============================] - ETA: 0s - loss: 0.2873 - accuracy: 0.8835\n",
      "Epoch 00049: val_loss did not improve from 0.29297\n",
      "509/509 [==============================] - 22s 42ms/step - loss: 0.2873 - accuracy: 0.8835 - val_loss: 0.3017 - val_accuracy: 0.8765\n",
      "Epoch 50/100\n",
      "509/509 [==============================] - ETA: 0s - loss: 0.2759 - accuracy: 0.8899\n",
      "Epoch 00050: val_loss did not improve from 0.29297\n",
      "509/509 [==============================] - 22s 42ms/step - loss: 0.2759 - accuracy: 0.8899 - val_loss: 0.3028 - val_accuracy: 0.8794\n",
      "Epoch 51/100\n",
      "509/509 [==============================] - ETA: 0s - loss: 0.2919 - accuracy: 0.8727\n",
      "Epoch 00051: val_loss did not improve from 0.29297\n",
      "\n",
      "Epoch 00051: ReduceLROnPlateau reducing learning rate to 1e-07.\n",
      "509/509 [==============================] - 22s 42ms/step - loss: 0.2919 - accuracy: 0.8727 - val_loss: 0.3092 - val_accuracy: 0.8765\n",
      "Epoch 52/100\n",
      "509/509 [==============================] - ETA: 0s - loss: 0.2754 - accuracy: 0.8864\n",
      "Epoch 00052: val_loss did not improve from 0.29297\n",
      "509/509 [==============================] - 22s 42ms/step - loss: 0.2754 - accuracy: 0.8864 - val_loss: 0.2975 - val_accuracy: 0.8824\n",
      "Epoch 53/100\n",
      "509/509 [==============================] - ETA: 0s - loss: 0.2741 - accuracy: 0.8840\n",
      "Epoch 00053: val_loss did not improve from 0.29297\n",
      "509/509 [==============================] - 22s 42ms/step - loss: 0.2741 - accuracy: 0.8840 - val_loss: 0.3062 - val_accuracy: 0.8765\n",
      "Epoch 54/100\n",
      "509/509 [==============================] - ETA: 0s - loss: 0.2700 - accuracy: 0.8977\n",
      "Epoch 00054: val_loss did not improve from 0.29297\n",
      "509/509 [==============================] - 22s 42ms/step - loss: 0.2700 - accuracy: 0.8977 - val_loss: 0.3003 - val_accuracy: 0.8765\n"
     ]
    },
    {
     "name": "stdout",
     "output_type": "stream",
     "text": [
      "Epoch 55/100\n",
      "509/509 [==============================] - ETA: 0s - loss: 0.2750 - accuracy: 0.8938\n",
      "Epoch 00055: val_loss did not improve from 0.29297\n",
      "509/509 [==============================] - 21s 42ms/step - loss: 0.2750 - accuracy: 0.8938 - val_loss: 0.3096 - val_accuracy: 0.8794\n",
      "Epoch 56/100\n",
      "509/509 [==============================] - ETA: 0s - loss: 0.2742 - accuracy: 0.8933\n",
      "Epoch 00056: val_loss did not improve from 0.29297\n",
      "\n",
      "Epoch 00056: ReduceLROnPlateau reducing learning rate to 1e-07.\n",
      "509/509 [==============================] - 22s 42ms/step - loss: 0.2742 - accuracy: 0.8933 - val_loss: 0.3024 - val_accuracy: 0.8765\n",
      "Epoch 57/100\n",
      "509/509 [==============================] - ETA: 0s - loss: 0.2795 - accuracy: 0.8894\n",
      "Epoch 00057: val_loss did not improve from 0.29297\n",
      "509/509 [==============================] - 22s 42ms/step - loss: 0.2795 - accuracy: 0.8894 - val_loss: 0.3135 - val_accuracy: 0.8765\n",
      "Epoch 58/100\n",
      "509/509 [==============================] - ETA: 0s - loss: 0.2636 - accuracy: 0.9086\n",
      "Epoch 00058: val_loss did not improve from 0.29297\n",
      "509/509 [==============================] - 22s 42ms/step - loss: 0.2636 - accuracy: 0.9086 - val_loss: 0.3153 - val_accuracy: 0.8765\n",
      "Epoch 59/100\n",
      "509/509 [==============================] - ETA: 0s - loss: 0.2754 - accuracy: 0.8933\n",
      "Epoch 00059: val_loss did not improve from 0.29297\n",
      "509/509 [==============================] - 22s 42ms/step - loss: 0.2754 - accuracy: 0.8933 - val_loss: 0.3110 - val_accuracy: 0.8765\n",
      "Epoch 60/100\n",
      "509/509 [==============================] - ETA: 0s - loss: 0.2673 - accuracy: 0.8835\n",
      "Epoch 00060: val_loss did not improve from 0.29297\n",
      "509/509 [==============================] - 22s 42ms/step - loss: 0.2673 - accuracy: 0.8835 - val_loss: 0.3104 - val_accuracy: 0.8794\n",
      "Epoch 61/100\n",
      "509/509 [==============================] - ETA: 0s - loss: 0.2659 - accuracy: 0.8928\n",
      "Epoch 00061: val_loss did not improve from 0.29297\n",
      "\n",
      "Epoch 00061: ReduceLROnPlateau reducing learning rate to 1e-07.\n",
      "509/509 [==============================] - 22s 42ms/step - loss: 0.2659 - accuracy: 0.8928 - val_loss: 0.3198 - val_accuracy: 0.8735\n",
      "Epoch 62/100\n",
      "509/509 [==============================] - ETA: 0s - loss: 0.2666 - accuracy: 0.8963\n",
      "Epoch 00062: val_loss did not improve from 0.29297\n",
      "509/509 [==============================] - 22s 42ms/step - loss: 0.2666 - accuracy: 0.8963 - val_loss: 0.3055 - val_accuracy: 0.8765\n",
      "Epoch 63/100\n",
      "509/509 [==============================] - ETA: 0s - loss: 0.2654 - accuracy: 0.8982\n",
      "Epoch 00063: val_loss did not improve from 0.29297\n",
      "509/509 [==============================] - 22s 42ms/step - loss: 0.2654 - accuracy: 0.8982 - val_loss: 0.3184 - val_accuracy: 0.8735\n",
      "Epoch 64/100\n",
      "509/509 [==============================] - ETA: 0s - loss: 0.2672 - accuracy: 0.8899\n",
      "Epoch 00064: val_loss did not improve from 0.29297\n",
      "509/509 [==============================] - 22s 43ms/step - loss: 0.2672 - accuracy: 0.8899 - val_loss: 0.3175 - val_accuracy: 0.8735\n",
      "Epoch 65/100\n",
      "509/509 [==============================] - ETA: 0s - loss: 0.2703 - accuracy: 0.8918\n",
      "Epoch 00065: val_loss did not improve from 0.29297\n",
      "509/509 [==============================] - 21s 42ms/step - loss: 0.2703 - accuracy: 0.8918 - val_loss: 0.3021 - val_accuracy: 0.8794\n",
      "Epoch 66/100\n",
      "509/509 [==============================] - ETA: 0s - loss: 0.2545 - accuracy: 0.9056\n",
      "Epoch 00066: val_loss improved from 0.29297 to 0.29064, saving model to modelos/modelo_raiox.h5\n",
      "509/509 [==============================] - 23s 45ms/step - loss: 0.2545 - accuracy: 0.9056 - val_loss: 0.2906 - val_accuracy: 0.8912\n",
      "Epoch 67/100\n",
      "509/509 [==============================] - ETA: 0s - loss: 0.2634 - accuracy: 0.8948\n",
      "Epoch 00067: val_loss did not improve from 0.29064\n",
      "509/509 [==============================] - 21s 42ms/step - loss: 0.2634 - accuracy: 0.8948 - val_loss: 0.2970 - val_accuracy: 0.8853\n",
      "Epoch 68/100\n",
      "509/509 [==============================] - ETA: 0s - loss: 0.2669 - accuracy: 0.8963\n",
      "Epoch 00068: val_loss did not improve from 0.29064\n",
      "509/509 [==============================] - 22s 42ms/step - loss: 0.2669 - accuracy: 0.8963 - val_loss: 0.3334 - val_accuracy: 0.8765\n",
      "Epoch 69/100\n",
      "509/509 [==============================] - ETA: 0s - loss: 0.2614 - accuracy: 0.8879\n",
      "Epoch 00069: val_loss did not improve from 0.29064\n",
      "509/509 [==============================] - 22s 42ms/step - loss: 0.2614 - accuracy: 0.8879 - val_loss: 0.3076 - val_accuracy: 0.8794\n",
      "Epoch 70/100\n",
      "509/509 [==============================] - ETA: 0s - loss: 0.2543 - accuracy: 0.9022\n",
      "Epoch 00070: val_loss did not improve from 0.29064\n",
      "509/509 [==============================] - 22s 42ms/step - loss: 0.2543 - accuracy: 0.9022 - val_loss: 0.3002 - val_accuracy: 0.8765\n",
      "Epoch 71/100\n",
      "509/509 [==============================] - ETA: 0s - loss: 0.2472 - accuracy: 0.9066\n",
      "Epoch 00071: val_loss did not improve from 0.29064\n",
      "\n",
      "Epoch 00071: ReduceLROnPlateau reducing learning rate to 1e-07.\n",
      "509/509 [==============================] - 21s 42ms/step - loss: 0.2472 - accuracy: 0.9066 - val_loss: 0.3178 - val_accuracy: 0.8735\n",
      "Epoch 72/100\n",
      "509/509 [==============================] - ETA: 0s - loss: 0.2617 - accuracy: 0.9027\n",
      "Epoch 00072: val_loss did not improve from 0.29064\n",
      "509/509 [==============================] - 22s 42ms/step - loss: 0.2617 - accuracy: 0.9027 - val_loss: 0.2976 - val_accuracy: 0.8853\n",
      "Epoch 73/100\n",
      "508/509 [============================>.] - ETA: 0s - loss: 0.2542 - accuracy: 0.9005\n",
      "Epoch 00073: val_loss did not improve from 0.29064\n",
      "509/509 [==============================] - 24s 47ms/step - loss: 0.2549 - accuracy: 0.9002 - val_loss: 0.3076 - val_accuracy: 0.8794\n",
      "Epoch 74/100\n",
      "509/509 [==============================] - ETA: 0s - loss: 0.2590 - accuracy: 0.8977\n",
      "Epoch 00074: val_loss did not improve from 0.29064\n",
      "509/509 [==============================] - 38s 75ms/step - loss: 0.2590 - accuracy: 0.8977 - val_loss: 0.3191 - val_accuracy: 0.8765\n",
      "Epoch 75/100\n",
      "509/509 [==============================] - ETA: 0s - loss: 0.2693 - accuracy: 0.8854\n",
      "Epoch 00075: val_loss did not improve from 0.29064\n",
      "509/509 [==============================] - 21s 41ms/step - loss: 0.2693 - accuracy: 0.8854 - val_loss: 0.3072 - val_accuracy: 0.8794\n",
      "Epoch 76/100\n",
      "509/509 [==============================] - ETA: 0s - loss: 0.2622 - accuracy: 0.8899\n",
      "Epoch 00076: val_loss did not improve from 0.29064\n",
      "\n",
      "Epoch 00076: ReduceLROnPlateau reducing learning rate to 1e-07.\n",
      "509/509 [==============================] - 22s 42ms/step - loss: 0.2622 - accuracy: 0.8899 - val_loss: 0.3032 - val_accuracy: 0.8765\n",
      "Epoch 77/100\n",
      "509/509 [==============================] - ETA: 0s - loss: 0.2704 - accuracy: 0.8859\n",
      "Epoch 00077: val_loss did not improve from 0.29064\n",
      "509/509 [==============================] - 22s 43ms/step - loss: 0.2704 - accuracy: 0.8859 - val_loss: 0.2955 - val_accuracy: 0.8765\n",
      "Epoch 78/100\n",
      "509/509 [==============================] - ETA: 0s - loss: 0.2640 - accuracy: 0.9056\n",
      "Epoch 00078: val_loss did not improve from 0.29064\n",
      "509/509 [==============================] - 22s 43ms/step - loss: 0.2640 - accuracy: 0.9056 - val_loss: 0.2993 - val_accuracy: 0.8765\n",
      "Epoch 79/100\n",
      "509/509 [==============================] - ETA: 0s - loss: 0.2563 - accuracy: 0.8958\n",
      "Epoch 00079: val_loss did not improve from 0.29064\n",
      "509/509 [==============================] - 22s 42ms/step - loss: 0.2563 - accuracy: 0.8958 - val_loss: 0.2931 - val_accuracy: 0.8853\n",
      "Epoch 80/100\n",
      "509/509 [==============================] - ETA: 0s - loss: 0.2616 - accuracy: 0.8943\n",
      "Epoch 00080: val_loss did not improve from 0.29064\n",
      "509/509 [==============================] - 22s 43ms/step - loss: 0.2616 - accuracy: 0.8943 - val_loss: 0.3005 - val_accuracy: 0.8765\n",
      "Epoch 81/100\n",
      "509/509 [==============================] - ETA: 0s - loss: 0.2539 - accuracy: 0.9007\n",
      "Epoch 00081: val_loss did not improve from 0.29064\n",
      "\n",
      "Epoch 00081: ReduceLROnPlateau reducing learning rate to 1e-07.\n",
      "509/509 [==============================] - 22s 43ms/step - loss: 0.2539 - accuracy: 0.9007 - val_loss: 0.2909 - val_accuracy: 0.8882\n",
      "Epoch 82/100\n",
      "509/509 [==============================] - ETA: 0s - loss: 0.2566 - accuracy: 0.8972\n",
      "Epoch 00082: val_loss did not improve from 0.29064\n",
      "509/509 [==============================] - 22s 43ms/step - loss: 0.2566 - accuracy: 0.8972 - val_loss: 0.3062 - val_accuracy: 0.8824\n"
     ]
    },
    {
     "name": "stdout",
     "output_type": "stream",
     "text": [
      "Epoch 83/100\n",
      "509/509 [==============================] - ETA: 0s - loss: 0.2486 - accuracy: 0.9031\n",
      "Epoch 00083: val_loss did not improve from 0.29064\n",
      "509/509 [==============================] - 22s 43ms/step - loss: 0.2486 - accuracy: 0.9031 - val_loss: 0.3005 - val_accuracy: 0.8765\n",
      "Epoch 84/100\n",
      "509/509 [==============================] - ETA: 0s - loss: 0.2530 - accuracy: 0.9002\n",
      "Epoch 00084: val_loss improved from 0.29064 to 0.28766, saving model to modelos/modelo_raiox.h5\n",
      "509/509 [==============================] - 23s 45ms/step - loss: 0.2530 - accuracy: 0.9002 - val_loss: 0.2877 - val_accuracy: 0.8882\n",
      "Epoch 85/100\n",
      "509/509 [==============================] - ETA: 0s - loss: 0.2506 - accuracy: 0.8963\n",
      "Epoch 00085: val_loss did not improve from 0.28766\n",
      "509/509 [==============================] - 22s 42ms/step - loss: 0.2506 - accuracy: 0.8963 - val_loss: 0.3155 - val_accuracy: 0.8882\n",
      "Epoch 86/100\n",
      "508/509 [============================>.] - ETA: 0s - loss: 0.2430 - accuracy: 0.9025\n",
      "Epoch 00086: val_loss did not improve from 0.28766\n",
      "509/509 [==============================] - 22s 43ms/step - loss: 0.2428 - accuracy: 0.9027 - val_loss: 0.3099 - val_accuracy: 0.8853\n",
      "Epoch 87/100\n",
      "509/509 [==============================] - ETA: 0s - loss: 0.2566 - accuracy: 0.9041\n",
      "Epoch 00087: val_loss did not improve from 0.28766\n",
      "509/509 [==============================] - 22s 43ms/step - loss: 0.2566 - accuracy: 0.9041 - val_loss: 0.3070 - val_accuracy: 0.8853\n",
      "Epoch 88/100\n",
      "509/509 [==============================] - ETA: 0s - loss: 0.2528 - accuracy: 0.8982\n",
      "Epoch 00088: val_loss did not improve from 0.28766\n",
      "509/509 [==============================] - 22s 43ms/step - loss: 0.2528 - accuracy: 0.8982 - val_loss: 0.3083 - val_accuracy: 0.8853\n",
      "Epoch 89/100\n",
      "509/509 [==============================] - ETA: 0s - loss: 0.2430 - accuracy: 0.9061\n",
      "Epoch 00089: val_loss did not improve from 0.28766\n",
      "\n",
      "Epoch 00089: ReduceLROnPlateau reducing learning rate to 1e-07.\n",
      "509/509 [==============================] - 22s 42ms/step - loss: 0.2430 - accuracy: 0.9061 - val_loss: 0.2961 - val_accuracy: 0.8824\n",
      "Epoch 90/100\n",
      "509/509 [==============================] - ETA: 0s - loss: 0.2508 - accuracy: 0.8987\n",
      "Epoch 00090: val_loss did not improve from 0.28766\n",
      "509/509 [==============================] - 22s 42ms/step - loss: 0.2508 - accuracy: 0.8987 - val_loss: 0.3090 - val_accuracy: 0.8853\n",
      "Epoch 91/100\n",
      "509/509 [==============================] - ETA: 0s - loss: 0.2502 - accuracy: 0.9017\n",
      "Epoch 00091: val_loss did not improve from 0.28766\n",
      "509/509 [==============================] - 22s 42ms/step - loss: 0.2502 - accuracy: 0.9017 - val_loss: 0.3003 - val_accuracy: 0.8824\n",
      "Epoch 92/100\n",
      "509/509 [==============================] - ETA: 0s - loss: 0.2456 - accuracy: 0.9027\n",
      "Epoch 00092: val_loss did not improve from 0.28766\n",
      "509/509 [==============================] - 22s 43ms/step - loss: 0.2456 - accuracy: 0.9027 - val_loss: 0.2955 - val_accuracy: 0.8882\n",
      "Epoch 93/100\n",
      "509/509 [==============================] - ETA: 0s - loss: 0.2570 - accuracy: 0.8997\n",
      "Epoch 00093: val_loss did not improve from 0.28766\n",
      "509/509 [==============================] - 22s 42ms/step - loss: 0.2570 - accuracy: 0.8997 - val_loss: 0.2951 - val_accuracy: 0.8853\n",
      "Epoch 94/100\n",
      "509/509 [==============================] - ETA: 0s - loss: 0.2378 - accuracy: 0.9125\n",
      "Epoch 00094: val_loss did not improve from 0.28766\n",
      "\n",
      "Epoch 00094: ReduceLROnPlateau reducing learning rate to 1e-07.\n",
      "509/509 [==============================] - 22s 42ms/step - loss: 0.2378 - accuracy: 0.9125 - val_loss: 0.3079 - val_accuracy: 0.8853\n",
      "Epoch 95/100\n",
      "509/509 [==============================] - ETA: 0s - loss: 0.2444 - accuracy: 0.9012\n",
      "Epoch 00095: val_loss did not improve from 0.28766\n",
      "509/509 [==============================] - 22s 42ms/step - loss: 0.2444 - accuracy: 0.9012 - val_loss: 0.3046 - val_accuracy: 0.8824\n",
      "Epoch 96/100\n",
      "509/509 [==============================] - ETA: 0s - loss: 0.2589 - accuracy: 0.8982\n",
      "Epoch 00096: val_loss did not improve from 0.28766\n",
      "509/509 [==============================] - 22s 42ms/step - loss: 0.2589 - accuracy: 0.8982 - val_loss: 0.3004 - val_accuracy: 0.8853\n",
      "Epoch 97/100\n",
      "509/509 [==============================] - ETA: 0s - loss: 0.2525 - accuracy: 0.8992\n",
      "Epoch 00097: val_loss did not improve from 0.28766\n",
      "509/509 [==============================] - 22s 42ms/step - loss: 0.2525 - accuracy: 0.8992 - val_loss: 0.3008 - val_accuracy: 0.8794\n",
      "Epoch 98/100\n",
      "509/509 [==============================] - ETA: 0s - loss: 0.2527 - accuracy: 0.9036\n",
      "Epoch 00098: val_loss did not improve from 0.28766\n",
      "509/509 [==============================] - 22s 43ms/step - loss: 0.2527 - accuracy: 0.9036 - val_loss: 0.3163 - val_accuracy: 0.8853\n",
      "Epoch 99/100\n",
      "509/509 [==============================] - ETA: 0s - loss: 0.2371 - accuracy: 0.9056\n",
      "Epoch 00099: val_loss did not improve from 0.28766\n",
      "\n",
      "Epoch 00099: ReduceLROnPlateau reducing learning rate to 1e-07.\n",
      "509/509 [==============================] - 22s 42ms/step - loss: 0.2371 - accuracy: 0.9056 - val_loss: 0.3027 - val_accuracy: 0.8853\n",
      "Epoch 100/100\n",
      "509/509 [==============================] - ETA: 0s - loss: 0.2356 - accuracy: 0.9071\n",
      "Epoch 00100: val_loss did not improve from 0.28766\n",
      "509/509 [==============================] - 22s 42ms/step - loss: 0.2356 - accuracy: 0.9071 - val_loss: 0.3164 - val_accuracy: 0.8853\n"
     ]
    }
   ],
   "source": [
    "# Treinamento do modelo\n",
    "history = modelo_final.fit(gen_treino, \n",
    "                    steps_per_epoch = passos_treino, \n",
    "                    validation_data = gen_val,\n",
    "                    validation_steps = passos_val,\n",
    "                    epochs = 100, \n",
    "                    verbose = 1,\n",
    "                    callbacks = callbacks_list)"
   ]
  },
  {
   "cell_type": "code",
   "execution_count": 40,
   "id": "0496f7f2",
   "metadata": {},
   "outputs": [
    {
     "data": {
      "image/png": "[encoded data removed]",
      "text/plain": [
       "<Figure size 576x576 with 1 Axes>"
      ]
     },
     "metadata": {
      "needs_background": "light"
     },
     "output_type": "display_data"
    }
   ],
   "source": [
    "# Curva do Erro\n",
    "plt.figure(figsize = (8, 8))\n",
    "plt.title(\"Learning curve\")\n",
    "plt.plot(history.history[\"loss\"], label = \"Loss in Training\")\n",
    "plt.plot(history.history[\"val_loss\"], label = \"Validation Loss\")\n",
    "plt.plot(np.argmin(history.history[\"val_loss\"]), \n",
    "         np.min(history.history[\"val_loss\"]), \n",
    "         marker =\"x\", \n",
    "         color = \"r\", \n",
    "         label = \"Best Model Performance\")\n",
    "plt.xlabel(\"Epochs\")\n",
    "plt.ylabel(\"Erro\")\n",
    "plt.legend();"
   ]
  },
  {
   "cell_type": "code",
   "execution_count": 41,
   "id": "1411aef3",
   "metadata": {},
   "outputs": [
    {
     "data": {
      "text/plain": [
       "['loss', 'accuracy']"
      ]
     },
     "execution_count": 41,
     "metadata": {},
     "output_type": "execute_result"
    }
   ],
   "source": [
    "# Obtém os nomes das métricas do modelo\n",
    "modelo_final.metrics_names"
   ]
  },
  {
   "cell_type": "code",
   "execution_count": 42,
   "id": "d3f2f23a",
   "metadata": {},
   "outputs": [],
   "source": [
    "# Carregamos o modelo treinado\n",
    "model =  tensorflow.keras.models.load_model('modelos/modelo_raiox.h5')"
   ]
  },
  {
   "cell_type": "code",
   "execution_count": 43,
   "id": "a90c8969",
   "metadata": {},
   "outputs": [
    {
     "name": "stdout",
     "output_type": "stream",
     "text": [
      "85/85 [==============================] - 2s 19ms/step - loss: 0.2877 - accuracy: 0.8882\n"
     ]
    }
   ],
   "source": [
    "# Extraímos as métricas de treinamento/validação\n",
    "val_loss, val_acc = model.evaluate(gen_val, steps = passos_val)"
   ]
  },
  {
   "cell_type": "code",
   "execution_count": 44,
   "id": "95cdd80d",
   "metadata": {},
   "outputs": [
    {
     "name": "stdout",
     "output_type": "stream",
     "text": [
      "\n",
      "Erro do Modelo em Validação (val_loss): 0.2876609265804291\n",
      "Acurácia do Modelo em Validação (val_acc): 0.8882352709770203\n"
     ]
    }
   ],
   "source": [
    "# Imprimimos\n",
    "print('\\nErro do Modelo em Validação (val_loss):', val_loss)\n",
    "print('Acurácia do Modelo em Validação (val_acc):', val_acc)"
   ]
  }
 ],
 "metadata": {
  "kernelspec": {
   "display_name": "Python 3 (ipykernel)",
   "language": "python",
   "name": "python3"
  },
  "language_info": {
   "codemirror_mode": {
    "name": "ipython",
    "version": 3
   },
   "file_extension": ".py",
   "mimetype": "text/x-python",
   "name": "python",
   "nbconvert_exporter": "python",
   "pygments_lexer": "ipython3",
   "version": "3.7.11"
  }
 },
 "nbformat": 4,
 "nbformat_minor": 5
}
